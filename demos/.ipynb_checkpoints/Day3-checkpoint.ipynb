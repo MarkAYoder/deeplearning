{
 "cells": [
  {
   "cell_type": "markdown",
   "metadata": {},
   "source": [
    "## Lession 2 (simple linear regression)"
   ]
  },
  {
   "cell_type": "code",
   "execution_count": 1,
   "metadata": {},
   "outputs": [],
   "source": [
    "import numpy as np\n",
    "import matplotlib.pyplot as plt\n",
    "%matplotlib inline"
   ]
  },
  {
   "cell_type": "code",
   "execution_count": 3,
   "metadata": {},
   "outputs": [],
   "source": [
    "# inputs and corresponding outputs (targets)\n",
    "x = np.array([67,67,72,69,69,70,67,67,66,68])\n",
    "y = np.array([128,123,129,143,132,142,11,118,108,119])"
   ]
  },
  {
   "cell_type": "code",
   "execution_count": 22,
   "metadata": {},
   "outputs": [],
   "source": [
    "#definition of MSE loss function\n",
    "def MSE(w, b, x, y):\n",
    "    yh = w*x+b\n",
    "    dy = y - yh\n",
    "    dy2 = dy*dy\n",
    "    return dy2.mean()"
   ]
  },
  {
   "cell_type": "code",
   "execution_count": 23,
   "metadata": {},
   "outputs": [],
   "source": [
    "#define contour plot\n",
    "def plot_MSE(wmin, wmax, bmin, bmax, num_pts, x, y):\n",
    "    mse = np.zeros((num_pts, num_pts))\n",
    "    ww, bb = np.meshgrid(np.linspace(wmin, wmax, num_pts), np.linspace(bmin, bmax, num_pts))\n",
    "    for i in range(num_pts):\n",
    "        for j in range(num_pts):\n",
    "            mse[i, j] = MSE(ww[i, j], bb[i, j], x, y)\n",
    "    plt.contourf(ww, bb, mse)\n",
    "    plt.show()"
   ]
  },
  {
   "cell_type": "code",
   "execution_count": 28,
   "metadata": {},
   "outputs": [
    {
     "data": {
      "image/png": "[encoded data removed]",
      "text/plain": [
       "<Figure size 432x288 with 1 Axes>"
      ]
     },
     "metadata": {},
     "output_type": "display_data"
    }
   ],
   "source": [
    "plot_MSE(4, 5, 160, 170, 200, x, y)"
   ]
  },
  {
   "cell_type": "code",
   "execution_count": null,
   "metadata": {},
   "outputs": [],
   "source": []
  }
 ],
 "metadata": {
  "kernelspec": {
   "display_name": "Python 3",
   "language": "python",
   "name": "python3"
  },
  "language_info": {
   "codemirror_mode": {
    "name": "ipython",
    "version": 3
   },
   "file_extension": ".py",
   "mimetype": "text/x-python",
   "name": "python",
   "nbconvert_exporter": "python",
   "pygments_lexer": "ipython3",
   "version": "3.6.5"
  }
 },
 "nbformat": 4,
 "nbformat_minor": 2
}
