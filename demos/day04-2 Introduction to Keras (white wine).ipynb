{
 "cells": [
  {
   "cell_type": "markdown",
   "metadata": {},
   "source": [
    "##  Intro to Keras - White Wine"
   ]
  },
  {
   "cell_type": "code",
   "execution_count": 56,
   "metadata": {},
   "outputs": [],
   "source": [
    "import numpy as np\n",
    "import pandas as pd\n",
    "from keras.models import Sequential\n",
    "from keras.layers.core import Dense, Activation\n",
    "from keras.optimizers import Adam\n",
    "from matplotlib.pyplot import plot\n",
    "%matplotlib inline"
   ]
  },
  {
   "cell_type": "code",
   "execution_count": 16,
   "metadata": {},
   "outputs": [
    {
     "data": {
      "text/html": [
       "<div>\n",
       "<style scoped>\n",
       "    .dataframe tbody tr th:only-of-type {\n",
       "        vertical-align: middle;\n",
       "    }\n",
       "\n",
       "    .dataframe tbody tr th {\n",
       "        vertical-align: top;\n",
       "    }\n",
       "\n",
       "    .dataframe thead th {\n",
       "        text-align: right;\n",
       "    }\n",
       "</style>\n",
       "<table border=\"1\" class=\"dataframe\">\n",
       "  <thead>\n",
       "    <tr style=\"text-align: right;\">\n",
       "      <th></th>\n",
       "      <th>fixed acidity</th>\n",
       "      <th>volatile acidity</th>\n",
       "      <th>citric acid</th>\n",
       "      <th>residual sugar</th>\n",
       "      <th>chlorides</th>\n",
       "      <th>free sulfur dioxide</th>\n",
       "      <th>total sulfur dioxide</th>\n",
       "      <th>density</th>\n",
       "      <th>pH</th>\n",
       "      <th>sulphates</th>\n",
       "      <th>alcohol</th>\n",
       "      <th>quality</th>\n",
       "    </tr>\n",
       "  </thead>\n",
       "  <tbody>\n",
       "    <tr>\n",
       "      <th>0</th>\n",
       "      <td>7.0</td>\n",
       "      <td>0.27</td>\n",
       "      <td>0.36</td>\n",
       "      <td>20.7</td>\n",
       "      <td>0.045</td>\n",
       "      <td>45.0</td>\n",
       "      <td>170.0</td>\n",
       "      <td>1.0010</td>\n",
       "      <td>3.00</td>\n",
       "      <td>0.45</td>\n",
       "      <td>8.8</td>\n",
       "      <td>6</td>\n",
       "    </tr>\n",
       "    <tr>\n",
       "      <th>1</th>\n",
       "      <td>6.3</td>\n",
       "      <td>0.30</td>\n",
       "      <td>0.34</td>\n",
       "      <td>1.6</td>\n",
       "      <td>0.049</td>\n",
       "      <td>14.0</td>\n",
       "      <td>132.0</td>\n",
       "      <td>0.9940</td>\n",
       "      <td>3.30</td>\n",
       "      <td>0.49</td>\n",
       "      <td>9.5</td>\n",
       "      <td>6</td>\n",
       "    </tr>\n",
       "    <tr>\n",
       "      <th>2</th>\n",
       "      <td>8.1</td>\n",
       "      <td>0.28</td>\n",
       "      <td>0.40</td>\n",
       "      <td>6.9</td>\n",
       "      <td>0.050</td>\n",
       "      <td>30.0</td>\n",
       "      <td>97.0</td>\n",
       "      <td>0.9951</td>\n",
       "      <td>3.26</td>\n",
       "      <td>0.44</td>\n",
       "      <td>10.1</td>\n",
       "      <td>6</td>\n",
       "    </tr>\n",
       "  </tbody>\n",
       "</table>\n",
       "</div>"
      ],
      "text/plain": [
       "   fixed acidity  volatile acidity  citric acid  residual sugar  chlorides  \\\n",
       "0            7.0              0.27         0.36            20.7      0.045   \n",
       "1            6.3              0.30         0.34             1.6      0.049   \n",
       "2            8.1              0.28         0.40             6.9      0.050   \n",
       "\n",
       "   free sulfur dioxide  total sulfur dioxide  density    pH  sulphates  \\\n",
       "0                 45.0                 170.0   1.0010  3.00       0.45   \n",
       "1                 14.0                 132.0   0.9940  3.30       0.49   \n",
       "2                 30.0                  97.0   0.9951  3.26       0.44   \n",
       "\n",
       "   alcohol  quality  \n",
       "0      8.8        6  \n",
       "1      9.5        6  \n",
       "2     10.1        6  "
      ]
     },
     "execution_count": 16,
     "metadata": {},
     "output_type": "execute_result"
    }
   ],
   "source": [
    "df = pd.read_csv('../data/wine_quality_white.csv', sep=';')\n",
    "df.head(3)"
   ]
  },
  {
   "cell_type": "markdown",
   "metadata": {},
   "source": [
    "### Linear Regression"
   ]
  },
  {
   "cell_type": "code",
   "execution_count": 4,
   "metadata": {},
   "outputs": [],
   "source": [
    "features = df.drop('quality', axis=1)\n",
    "target   = df['quality']"
   ]
  },
  {
   "cell_type": "code",
   "execution_count": 6,
   "metadata": {},
   "outputs": [
    {
     "data": {
      "text/html": [
       "<div>\n",
       "<style scoped>\n",
       "    .dataframe tbody tr th:only-of-type {\n",
       "        vertical-align: middle;\n",
       "    }\n",
       "\n",
       "    .dataframe tbody tr th {\n",
       "        vertical-align: top;\n",
       "    }\n",
       "\n",
       "    .dataframe thead th {\n",
       "        text-align: right;\n",
       "    }\n",
       "</style>\n",
       "<table border=\"1\" class=\"dataframe\">\n",
       "  <thead>\n",
       "    <tr style=\"text-align: right;\">\n",
       "      <th></th>\n",
       "      <th>fixed acidity</th>\n",
       "      <th>volatile acidity</th>\n",
       "      <th>citric acid</th>\n",
       "      <th>residual sugar</th>\n",
       "      <th>chlorides</th>\n",
       "      <th>free sulfur dioxide</th>\n",
       "      <th>total sulfur dioxide</th>\n",
       "      <th>density</th>\n",
       "      <th>pH</th>\n",
       "      <th>sulphates</th>\n",
       "      <th>alcohol</th>\n",
       "    </tr>\n",
       "  </thead>\n",
       "  <tbody>\n",
       "    <tr>\n",
       "      <th>count</th>\n",
       "      <td>4898.000000</td>\n",
       "      <td>4898.000000</td>\n",
       "      <td>4898.000000</td>\n",
       "      <td>4898.000000</td>\n",
       "      <td>4898.000000</td>\n",
       "      <td>4898.000000</td>\n",
       "      <td>4898.000000</td>\n",
       "      <td>4898.000000</td>\n",
       "      <td>4898.000000</td>\n",
       "      <td>4898.000000</td>\n",
       "      <td>4898.000000</td>\n",
       "    </tr>\n",
       "    <tr>\n",
       "      <th>mean</th>\n",
       "      <td>6.854788</td>\n",
       "      <td>0.278241</td>\n",
       "      <td>0.334192</td>\n",
       "      <td>6.391415</td>\n",
       "      <td>0.045772</td>\n",
       "      <td>35.308085</td>\n",
       "      <td>138.360657</td>\n",
       "      <td>0.994027</td>\n",
       "      <td>3.188267</td>\n",
       "      <td>0.489847</td>\n",
       "      <td>10.514267</td>\n",
       "    </tr>\n",
       "    <tr>\n",
       "      <th>std</th>\n",
       "      <td>0.843868</td>\n",
       "      <td>0.100795</td>\n",
       "      <td>0.121020</td>\n",
       "      <td>5.072058</td>\n",
       "      <td>0.021848</td>\n",
       "      <td>17.007137</td>\n",
       "      <td>42.498065</td>\n",
       "      <td>0.002991</td>\n",
       "      <td>0.151001</td>\n",
       "      <td>0.114126</td>\n",
       "      <td>1.230621</td>\n",
       "    </tr>\n",
       "    <tr>\n",
       "      <th>min</th>\n",
       "      <td>3.800000</td>\n",
       "      <td>0.080000</td>\n",
       "      <td>0.000000</td>\n",
       "      <td>0.600000</td>\n",
       "      <td>0.009000</td>\n",
       "      <td>2.000000</td>\n",
       "      <td>9.000000</td>\n",
       "      <td>0.987110</td>\n",
       "      <td>2.720000</td>\n",
       "      <td>0.220000</td>\n",
       "      <td>8.000000</td>\n",
       "    </tr>\n",
       "    <tr>\n",
       "      <th>25%</th>\n",
       "      <td>6.300000</td>\n",
       "      <td>0.210000</td>\n",
       "      <td>0.270000</td>\n",
       "      <td>1.700000</td>\n",
       "      <td>0.036000</td>\n",
       "      <td>23.000000</td>\n",
       "      <td>108.000000</td>\n",
       "      <td>0.991723</td>\n",
       "      <td>3.090000</td>\n",
       "      <td>0.410000</td>\n",
       "      <td>9.500000</td>\n",
       "    </tr>\n",
       "    <tr>\n",
       "      <th>50%</th>\n",
       "      <td>6.800000</td>\n",
       "      <td>0.260000</td>\n",
       "      <td>0.320000</td>\n",
       "      <td>5.200000</td>\n",
       "      <td>0.043000</td>\n",
       "      <td>34.000000</td>\n",
       "      <td>134.000000</td>\n",
       "      <td>0.993740</td>\n",
       "      <td>3.180000</td>\n",
       "      <td>0.470000</td>\n",
       "      <td>10.400000</td>\n",
       "    </tr>\n",
       "    <tr>\n",
       "      <th>75%</th>\n",
       "      <td>7.300000</td>\n",
       "      <td>0.320000</td>\n",
       "      <td>0.390000</td>\n",
       "      <td>9.900000</td>\n",
       "      <td>0.050000</td>\n",
       "      <td>46.000000</td>\n",
       "      <td>167.000000</td>\n",
       "      <td>0.996100</td>\n",
       "      <td>3.280000</td>\n",
       "      <td>0.550000</td>\n",
       "      <td>11.400000</td>\n",
       "    </tr>\n",
       "    <tr>\n",
       "      <th>max</th>\n",
       "      <td>14.200000</td>\n",
       "      <td>1.100000</td>\n",
       "      <td>1.660000</td>\n",
       "      <td>65.800000</td>\n",
       "      <td>0.346000</td>\n",
       "      <td>289.000000</td>\n",
       "      <td>440.000000</td>\n",
       "      <td>1.038980</td>\n",
       "      <td>3.820000</td>\n",
       "      <td>1.080000</td>\n",
       "      <td>14.200000</td>\n",
       "    </tr>\n",
       "  </tbody>\n",
       "</table>\n",
       "</div>"
      ],
      "text/plain": [
       "       fixed acidity  volatile acidity  citric acid  residual sugar  \\\n",
       "count    4898.000000       4898.000000  4898.000000     4898.000000   \n",
       "mean        6.854788          0.278241     0.334192        6.391415   \n",
       "std         0.843868          0.100795     0.121020        5.072058   \n",
       "min         3.800000          0.080000     0.000000        0.600000   \n",
       "25%         6.300000          0.210000     0.270000        1.700000   \n",
       "50%         6.800000          0.260000     0.320000        5.200000   \n",
       "75%         7.300000          0.320000     0.390000        9.900000   \n",
       "max        14.200000          1.100000     1.660000       65.800000   \n",
       "\n",
       "         chlorides  free sulfur dioxide  total sulfur dioxide      density  \\\n",
       "count  4898.000000          4898.000000           4898.000000  4898.000000   \n",
       "mean      0.045772            35.308085            138.360657     0.994027   \n",
       "std       0.021848            17.007137             42.498065     0.002991   \n",
       "min       0.009000             2.000000              9.000000     0.987110   \n",
       "25%       0.036000            23.000000            108.000000     0.991723   \n",
       "50%       0.043000            34.000000            134.000000     0.993740   \n",
       "75%       0.050000            46.000000            167.000000     0.996100   \n",
       "max       0.346000           289.000000            440.000000     1.038980   \n",
       "\n",
       "                pH    sulphates      alcohol  \n",
       "count  4898.000000  4898.000000  4898.000000  \n",
       "mean      3.188267     0.489847    10.514267  \n",
       "std       0.151001     0.114126     1.230621  \n",
       "min       2.720000     0.220000     8.000000  \n",
       "25%       3.090000     0.410000     9.500000  \n",
       "50%       3.180000     0.470000    10.400000  \n",
       "75%       3.280000     0.550000    11.400000  \n",
       "max       3.820000     1.080000    14.200000  "
      ]
     },
     "execution_count": 6,
     "metadata": {},
     "output_type": "execute_result"
    }
   ],
   "source": [
    "mu = features.mean()\n",
    "sd = features.std()\n",
    "features_s = (features - mu)/sd\n",
    "features.describe()"
   ]
  },
  {
   "cell_type": "code",
   "execution_count": 7,
   "metadata": {},
   "outputs": [],
   "source": [
    "X  = features_s.values\n",
    "y = target.values"
   ]
  },
  {
   "cell_type": "code",
   "execution_count": 12,
   "metadata": {},
   "outputs": [
    {
     "name": "stdout",
     "output_type": "stream",
     "text": [
      "RMSE =  0.7513538100636097 , baseline RMSE =  0.8855481621683543\n"
     ]
    }
   ],
   "source": [
    "# Keras\n",
    "model = Sequential()\n",
    "# Add a layer - Dense connects everything to everythig\n",
    "model.add(Dense(1, input_shape=(11,)))\n",
    "\n",
    "model.compile(loss='mean_squared_error', optimizer='Adam')\n",
    "\n",
    "hist = model.fit(X, y, epochs=100, verbose=0)\n",
    "\n",
    "# [-1] get last part of history\n",
    "mse = hist.history['loss'][-1]\n",
    "rmse = np.sqrt(mse)\n",
    "print('RMSE = ', rmse, ', baseline RMSE = ', y.std())"
   ]
  },
  {
   "cell_type": "code",
   "execution_count": 13,
   "metadata": {},
   "outputs": [
    {
     "data": {
      "text/plain": [
       "3      20\n",
       "4     163\n",
       "5    1457\n",
       "6    2198\n",
       "7     880\n",
       "8     175\n",
       "9       5\n",
       "Name: quality, dtype: int64"
      ]
     },
     "execution_count": 13,
     "metadata": {},
     "output_type": "execute_result"
    }
   ],
   "source": [
    "df.quality.value_counts().sort_index()"
   ]
  },
  {
   "cell_type": "markdown",
   "metadata": {},
   "source": [
    "One is 2195 and another is 5.  Called imballenced"
   ]
  },
  {
   "cell_type": "markdown",
   "metadata": {},
   "source": [
    "## Logistic regression"
   ]
  },
  {
   "cell_type": "code",
   "execution_count": 18,
   "metadata": {},
   "outputs": [
    {
     "data": {
      "text/html": [
       "<div>\n",
       "<style scoped>\n",
       "    .dataframe tbody tr th:only-of-type {\n",
       "        vertical-align: middle;\n",
       "    }\n",
       "\n",
       "    .dataframe tbody tr th {\n",
       "        vertical-align: top;\n",
       "    }\n",
       "\n",
       "    .dataframe thead th {\n",
       "        text-align: right;\n",
       "    }\n",
       "</style>\n",
       "<table border=\"1\" class=\"dataframe\">\n",
       "  <thead>\n",
       "    <tr style=\"text-align: right;\">\n",
       "      <th></th>\n",
       "      <th>fixed acidity</th>\n",
       "      <th>volatile acidity</th>\n",
       "      <th>citric acid</th>\n",
       "      <th>residual sugar</th>\n",
       "      <th>chlorides</th>\n",
       "      <th>free sulfur dioxide</th>\n",
       "      <th>total sulfur dioxide</th>\n",
       "      <th>density</th>\n",
       "      <th>pH</th>\n",
       "      <th>sulphates</th>\n",
       "      <th>alcohol</th>\n",
       "      <th>quality</th>\n",
       "    </tr>\n",
       "  </thead>\n",
       "  <tbody>\n",
       "    <tr>\n",
       "      <th>0</th>\n",
       "      <td>7.0</td>\n",
       "      <td>0.27</td>\n",
       "      <td>0.36</td>\n",
       "      <td>20.7</td>\n",
       "      <td>0.045</td>\n",
       "      <td>45.0</td>\n",
       "      <td>170.0</td>\n",
       "      <td>1.0010</td>\n",
       "      <td>3.00</td>\n",
       "      <td>0.45</td>\n",
       "      <td>8.8</td>\n",
       "      <td>6</td>\n",
       "    </tr>\n",
       "    <tr>\n",
       "      <th>1</th>\n",
       "      <td>6.3</td>\n",
       "      <td>0.30</td>\n",
       "      <td>0.34</td>\n",
       "      <td>1.6</td>\n",
       "      <td>0.049</td>\n",
       "      <td>14.0</td>\n",
       "      <td>132.0</td>\n",
       "      <td>0.9940</td>\n",
       "      <td>3.30</td>\n",
       "      <td>0.49</td>\n",
       "      <td>9.5</td>\n",
       "      <td>6</td>\n",
       "    </tr>\n",
       "    <tr>\n",
       "      <th>2</th>\n",
       "      <td>8.1</td>\n",
       "      <td>0.28</td>\n",
       "      <td>0.40</td>\n",
       "      <td>6.9</td>\n",
       "      <td>0.050</td>\n",
       "      <td>30.0</td>\n",
       "      <td>97.0</td>\n",
       "      <td>0.9951</td>\n",
       "      <td>3.26</td>\n",
       "      <td>0.44</td>\n",
       "      <td>10.1</td>\n",
       "      <td>6</td>\n",
       "    </tr>\n",
       "  </tbody>\n",
       "</table>\n",
       "</div>"
      ],
      "text/plain": [
       "   fixed acidity  volatile acidity  citric acid  residual sugar  chlorides  \\\n",
       "0            7.0              0.27         0.36            20.7      0.045   \n",
       "1            6.3              0.30         0.34             1.6      0.049   \n",
       "2            8.1              0.28         0.40             6.9      0.050   \n",
       "\n",
       "   free sulfur dioxide  total sulfur dioxide  density    pH  sulphates  \\\n",
       "0                 45.0                 170.0   1.0010  3.00       0.45   \n",
       "1                 14.0                 132.0   0.9940  3.30       0.49   \n",
       "2                 30.0                  97.0   0.9951  3.26       0.44   \n",
       "\n",
       "   alcohol  quality  \n",
       "0      8.8        6  \n",
       "1      9.5        6  \n",
       "2     10.1        6  "
      ]
     },
     "execution_count": 18,
     "metadata": {},
     "output_type": "execute_result"
    }
   ],
   "source": [
    "df = pd.read_csv('../data/wine_quality_white.csv', sep=';')\n",
    "df.head(3)"
   ]
  },
  {
   "cell_type": "code",
   "execution_count": 22,
   "metadata": {},
   "outputs": [
    {
     "data": {
      "text/plain": [
       "3      20\n",
       "4     163\n",
       "5    1457\n",
       "6    2198\n",
       "7     880\n",
       "8     175\n",
       "9       5\n",
       "Name: quality, dtype: int64"
      ]
     },
     "execution_count": 22,
     "metadata": {},
     "output_type": "execute_result"
    }
   ],
   "source": [
    "df.quality.value_counts().sort_index()"
   ]
  },
  {
   "cell_type": "markdown",
   "metadata": {},
   "source": [
    "Bins are not balanced. Cut into 2 groups, one 'bad' and the other 'good'.\n",
    "[0, 0.7, 1] says put 70% of data in 'bad'"
   ]
  },
  {
   "cell_type": "code",
   "execution_count": 64,
   "metadata": {},
   "outputs": [
    {
     "data": {
      "text/html": [
       "<div>\n",
       "<style scoped>\n",
       "    .dataframe tbody tr th:only-of-type {\n",
       "        vertical-align: middle;\n",
       "    }\n",
       "\n",
       "    .dataframe tbody tr th {\n",
       "        vertical-align: top;\n",
       "    }\n",
       "\n",
       "    .dataframe thead th {\n",
       "        text-align: right;\n",
       "    }\n",
       "</style>\n",
       "<table border=\"1\" class=\"dataframe\">\n",
       "  <thead>\n",
       "    <tr style=\"text-align: right;\">\n",
       "      <th></th>\n",
       "      <th>fixed acidity</th>\n",
       "      <th>volatile acidity</th>\n",
       "      <th>citric acid</th>\n",
       "      <th>residual sugar</th>\n",
       "      <th>chlorides</th>\n",
       "      <th>free sulfur dioxide</th>\n",
       "      <th>total sulfur dioxide</th>\n",
       "      <th>density</th>\n",
       "      <th>pH</th>\n",
       "      <th>sulphates</th>\n",
       "      <th>alcohol</th>\n",
       "      <th>quality</th>\n",
       "      <th>rating</th>\n",
       "    </tr>\n",
       "  </thead>\n",
       "  <tbody>\n",
       "    <tr>\n",
       "      <th>0</th>\n",
       "      <td>7.0</td>\n",
       "      <td>0.27</td>\n",
       "      <td>0.36</td>\n",
       "      <td>20.7</td>\n",
       "      <td>0.045</td>\n",
       "      <td>45.0</td>\n",
       "      <td>170.0</td>\n",
       "      <td>1.0010</td>\n",
       "      <td>3.00</td>\n",
       "      <td>0.45</td>\n",
       "      <td>8.8</td>\n",
       "      <td>6</td>\n",
       "      <td>bad</td>\n",
       "    </tr>\n",
       "    <tr>\n",
       "      <th>1</th>\n",
       "      <td>6.3</td>\n",
       "      <td>0.30</td>\n",
       "      <td>0.34</td>\n",
       "      <td>1.6</td>\n",
       "      <td>0.049</td>\n",
       "      <td>14.0</td>\n",
       "      <td>132.0</td>\n",
       "      <td>0.9940</td>\n",
       "      <td>3.30</td>\n",
       "      <td>0.49</td>\n",
       "      <td>9.5</td>\n",
       "      <td>6</td>\n",
       "      <td>bad</td>\n",
       "    </tr>\n",
       "    <tr>\n",
       "      <th>2</th>\n",
       "      <td>8.1</td>\n",
       "      <td>0.28</td>\n",
       "      <td>0.40</td>\n",
       "      <td>6.9</td>\n",
       "      <td>0.050</td>\n",
       "      <td>30.0</td>\n",
       "      <td>97.0</td>\n",
       "      <td>0.9951</td>\n",
       "      <td>3.26</td>\n",
       "      <td>0.44</td>\n",
       "      <td>10.1</td>\n",
       "      <td>6</td>\n",
       "      <td>bad</td>\n",
       "    </tr>\n",
       "  </tbody>\n",
       "</table>\n",
       "</div>"
      ],
      "text/plain": [
       "   fixed acidity  volatile acidity  citric acid  residual sugar  chlorides  \\\n",
       "0            7.0              0.27         0.36            20.7      0.045   \n",
       "1            6.3              0.30         0.34             1.6      0.049   \n",
       "2            8.1              0.28         0.40             6.9      0.050   \n",
       "\n",
       "   free sulfur dioxide  total sulfur dioxide  density    pH  sulphates  \\\n",
       "0                 45.0                 170.0   1.0010  3.00       0.45   \n",
       "1                 14.0                 132.0   0.9940  3.30       0.49   \n",
       "2                 30.0                  97.0   0.9951  3.26       0.44   \n",
       "\n",
       "   alcohol  quality rating  \n",
       "0      8.8        6    bad  \n",
       "1      9.5        6    bad  \n",
       "2     10.1        6    bad  "
      ]
     },
     "execution_count": 64,
     "metadata": {},
     "output_type": "execute_result"
    }
   ],
   "source": [
    "df['rating'] = pd.qcut(df.quality, [0, 0.7, 1.0], labels=['bad', 'good'], retbins=False)\n",
    "df.head(3)"
   ]
  },
  {
   "cell_type": "code",
   "execution_count": 65,
   "metadata": {},
   "outputs": [
    {
     "data": {
      "text/plain": [
       "bad     3838\n",
       "good    1060\n",
       "Name: rating, dtype: int64"
      ]
     },
     "execution_count": 65,
     "metadata": {},
     "output_type": "execute_result"
    }
   ],
   "source": [
    "df.rating.value_counts()"
   ]
  },
  {
   "cell_type": "code",
   "execution_count": 46,
   "metadata": {},
   "outputs": [
    {
     "data": {
      "text/plain": [
       "0    bad\n",
       "1    bad\n",
       "2    bad\n",
       "Name: rating, dtype: category\n",
       "Categories (2, object): [bad < good]"
      ]
     },
     "execution_count": 46,
     "metadata": {},
     "output_type": "execute_result"
    }
   ],
   "source": [
    "features = df.drop(['quality', 'rating'], axis=1)\n",
    "target   = df['rating']\n",
    "target.head(3)"
   ]
  },
  {
   "cell_type": "code",
   "execution_count": 47,
   "metadata": {},
   "outputs": [
    {
     "data": {
      "text/html": [
       "<div>\n",
       "<style scoped>\n",
       "    .dataframe tbody tr th:only-of-type {\n",
       "        vertical-align: middle;\n",
       "    }\n",
       "\n",
       "    .dataframe tbody tr th {\n",
       "        vertical-align: top;\n",
       "    }\n",
       "\n",
       "    .dataframe thead th {\n",
       "        text-align: right;\n",
       "    }\n",
       "</style>\n",
       "<table border=\"1\" class=\"dataframe\">\n",
       "  <thead>\n",
       "    <tr style=\"text-align: right;\">\n",
       "      <th></th>\n",
       "      <th>bad</th>\n",
       "      <th>good</th>\n",
       "    </tr>\n",
       "  </thead>\n",
       "  <tbody>\n",
       "    <tr>\n",
       "      <th>0</th>\n",
       "      <td>1</td>\n",
       "      <td>0</td>\n",
       "    </tr>\n",
       "    <tr>\n",
       "      <th>1</th>\n",
       "      <td>1</td>\n",
       "      <td>0</td>\n",
       "    </tr>\n",
       "    <tr>\n",
       "      <th>2</th>\n",
       "      <td>1</td>\n",
       "      <td>0</td>\n",
       "    </tr>\n",
       "  </tbody>\n",
       "</table>\n",
       "</div>"
      ],
      "text/plain": [
       "   bad  good\n",
       "0    1     0\n",
       "1    1     0\n",
       "2    1     0"
      ]
     },
     "execution_count": 47,
     "metadata": {},
     "output_type": "execute_result"
    }
   ],
   "source": [
    "target = pd.get_dummies(target)\n",
    "target.head(3)"
   ]
  },
  {
   "cell_type": "code",
   "execution_count": 48,
   "metadata": {},
   "outputs": [
    {
     "data": {
      "text/plain": [
       "array([[1, 0],\n",
       "       [1, 0],\n",
       "       [1, 0],\n",
       "       ...,\n",
       "       [1, 0],\n",
       "       [0, 1],\n",
       "       [1, 0]], dtype=uint8)"
      ]
     },
     "execution_count": 48,
     "metadata": {},
     "output_type": "execute_result"
    }
   ],
   "source": [
    "X = features.values\n",
    "Y = target.values\n",
    "Y"
   ]
  },
  {
   "cell_type": "code",
   "execution_count": 49,
   "metadata": {},
   "outputs": [
    {
     "data": {
      "text/plain": [
       "(4898, 11)"
      ]
     },
     "execution_count": 49,
     "metadata": {},
     "output_type": "execute_result"
    }
   ],
   "source": [
    "X.shape"
   ]
  },
  {
   "cell_type": "code",
   "execution_count": 52,
   "metadata": {},
   "outputs": [
    {
     "name": "stdout",
     "output_type": "stream",
     "text": [
      "Epoch 1/100\n",
      "4898/4898 [==============================] - 1s 125us/step - loss: 3.4848 - acc: 0.7836\n",
      "Epoch 2/100\n",
      "4898/4898 [==============================] - 0s 29us/step - loss: 1.4798 - acc: 0.6693\n",
      "Epoch 3/100\n",
      "4898/4898 [==============================] - 0s 36us/step - loss: 0.5816 - acc: 0.7421\n",
      "Epoch 4/100\n",
      "4898/4898 [==============================] - 0s 40us/step - loss: 0.4896 - acc: 0.7838\n",
      "Epoch 5/100\n",
      "4898/4898 [==============================] - 0s 45us/step - loss: 0.4784 - acc: 0.7836\n",
      "Epoch 6/100\n",
      "4898/4898 [==============================] - 0s 43us/step - loss: 0.4787 - acc: 0.7856\n",
      "Epoch 7/100\n",
      "4898/4898 [==============================] - 0s 46us/step - loss: 0.4764 - acc: 0.7860\n",
      "Epoch 8/100\n",
      "4898/4898 [==============================] - 0s 48us/step - loss: 0.4753 - acc: 0.7866\n",
      "Epoch 9/100\n",
      "4898/4898 [==============================] - 0s 46us/step - loss: 0.4733 - acc: 0.7887\n",
      "Epoch 10/100\n",
      "4898/4898 [==============================] - 0s 41us/step - loss: 0.4772 - acc: 0.7887\n",
      "Epoch 11/100\n",
      "4898/4898 [==============================] - 0s 39us/step - loss: 0.4756 - acc: 0.7869\n",
      "Epoch 12/100\n",
      "4898/4898 [==============================] - 0s 37us/step - loss: 0.4723 - acc: 0.7864\n",
      "Epoch 13/100\n",
      "4898/4898 [==============================] - 0s 34us/step - loss: 0.4713 - acc: 0.7854\n",
      "Epoch 14/100\n",
      "4898/4898 [==============================] - 0s 32us/step - loss: 0.4694 - acc: 0.7893\n",
      "Epoch 15/100\n",
      "4898/4898 [==============================] - 0s 30us/step - loss: 0.4712 - acc: 0.7879\n",
      "Epoch 16/100\n",
      "4898/4898 [==============================] - 0s 30us/step - loss: 0.4682 - acc: 0.7881\n",
      "Epoch 17/100\n",
      "4898/4898 [==============================] - 0s 40us/step - loss: 0.4701 - acc: 0.7905\n",
      "Epoch 18/100\n",
      "4898/4898 [==============================] - 0s 40us/step - loss: 0.4697 - acc: 0.7858\n",
      "Epoch 19/100\n",
      "4898/4898 [==============================] - 0s 38us/step - loss: 0.4698 - acc: 0.7905\n",
      "Epoch 20/100\n",
      "4898/4898 [==============================] - 0s 39us/step - loss: 0.4674 - acc: 0.7875\n",
      "Epoch 21/100\n",
      "4898/4898 [==============================] - 0s 36us/step - loss: 0.4684 - acc: 0.7930\n",
      "Epoch 22/100\n",
      "4898/4898 [==============================] - 0s 42us/step - loss: 0.4673 - acc: 0.7920\n",
      "Epoch 23/100\n",
      "4898/4898 [==============================] - 0s 39us/step - loss: 0.4678 - acc: 0.7877\n",
      "Epoch 24/100\n",
      "4898/4898 [==============================] - 0s 38us/step - loss: 0.4656 - acc: 0.7854\n",
      "Epoch 25/100\n",
      "4898/4898 [==============================] - 0s 40us/step - loss: 0.4641 - acc: 0.7899\n",
      "Epoch 26/100\n",
      "4898/4898 [==============================] - ETA: 0s - loss: 0.4604 - acc: 0.794 - 0s 39us/step - loss: 0.4642 - acc: 0.7918\n",
      "Epoch 27/100\n",
      "4898/4898 [==============================] - 0s 35us/step - loss: 0.4642 - acc: 0.7885\n",
      "Epoch 28/100\n",
      "4898/4898 [==============================] - 0s 36us/step - loss: 0.4702 - acc: 0.7869\n",
      "Epoch 29/100\n",
      "4898/4898 [==============================] - 0s 38us/step - loss: 0.4612 - acc: 0.7948\n",
      "Epoch 30/100\n",
      "4898/4898 [==============================] - 0s 42us/step - loss: 0.4633 - acc: 0.7893\n",
      "Epoch 31/100\n",
      "4898/4898 [==============================] - 0s 36us/step - loss: 0.4637 - acc: 0.7862\n",
      "Epoch 32/100\n",
      "4898/4898 [==============================] - 0s 34us/step - loss: 0.4624 - acc: 0.7903\n",
      "Epoch 33/100\n",
      "4898/4898 [==============================] - 0s 36us/step - loss: 0.4593 - acc: 0.7934\n",
      "Epoch 34/100\n",
      "4898/4898 [==============================] - 0s 37us/step - loss: 0.4656 - acc: 0.7887\n",
      "Epoch 35/100\n",
      "4898/4898 [==============================] - 0s 39us/step - loss: 0.4579 - acc: 0.7915\n",
      "Epoch 36/100\n",
      "4898/4898 [==============================] - 0s 38us/step - loss: 0.4604 - acc: 0.7930\n",
      "Epoch 37/100\n",
      "4898/4898 [==============================] - 0s 36us/step - loss: 0.4587 - acc: 0.7942\n",
      "Epoch 38/100\n",
      "4898/4898 [==============================] - 0s 38us/step - loss: 0.4579 - acc: 0.7940\n",
      "Epoch 39/100\n",
      "4898/4898 [==============================] - 0s 34us/step - loss: 0.4591 - acc: 0.7915\n",
      "Epoch 40/100\n",
      "4898/4898 [==============================] - 0s 35us/step - loss: 0.4599 - acc: 0.7940\n",
      "Epoch 41/100\n",
      "4898/4898 [==============================] - ETA: 0s - loss: 0.4612 - acc: 0.788 - 0s 32us/step - loss: 0.4610 - acc: 0.7883\n",
      "Epoch 42/100\n",
      "4898/4898 [==============================] - 0s 36us/step - loss: 0.4593 - acc: 0.7924\n",
      "Epoch 43/100\n",
      "4898/4898 [==============================] - 0s 34us/step - loss: 0.4572 - acc: 0.7936: 0s - loss: 0.4568 - acc: 0.79\n",
      "Epoch 44/100\n",
      "4898/4898 [==============================] - 0s 32us/step - loss: 0.4583 - acc: 0.7909\n",
      "Epoch 45/100\n",
      "4898/4898 [==============================] - 0s 42us/step - loss: 0.4555 - acc: 0.7893\n",
      "Epoch 46/100\n",
      "4898/4898 [==============================] - 0s 40us/step - loss: 0.4577 - acc: 0.7915\n",
      "Epoch 47/100\n",
      "4898/4898 [==============================] - 0s 43us/step - loss: 0.4589 - acc: 0.7920\n",
      "Epoch 48/100\n",
      "4898/4898 [==============================] - 0s 43us/step - loss: 0.4581 - acc: 0.7918\n",
      "Epoch 49/100\n",
      "4898/4898 [==============================] - 0s 37us/step - loss: 0.4580 - acc: 0.7975\n",
      "Epoch 50/100\n",
      "4898/4898 [==============================] - 0s 31us/step - loss: 0.4547 - acc: 0.7932\n",
      "Epoch 51/100\n",
      "4898/4898 [==============================] - 0s 34us/step - loss: 0.4556 - acc: 0.7903\n",
      "Epoch 52/100\n",
      "4898/4898 [==============================] - 0s 34us/step - loss: 0.4559 - acc: 0.7891\n",
      "Epoch 53/100\n",
      "4898/4898 [==============================] - 0s 34us/step - loss: 0.4519 - acc: 0.7938\n",
      "Epoch 54/100\n",
      "4898/4898 [==============================] - 0s 34us/step - loss: 0.4536 - acc: 0.7942\n",
      "Epoch 55/100\n",
      "4898/4898 [==============================] - 0s 36us/step - loss: 0.4569 - acc: 0.7928\n",
      "Epoch 56/100\n",
      "4898/4898 [==============================] - 0s 37us/step - loss: 0.4585 - acc: 0.7905\n",
      "Epoch 57/100\n",
      "4898/4898 [==============================] - 0s 31us/step - loss: 0.4531 - acc: 0.7930\n",
      "Epoch 58/100\n",
      "4898/4898 [==============================] - 0s 32us/step - loss: 0.4542 - acc: 0.7954\n",
      "Epoch 59/100\n",
      "4898/4898 [==============================] - 0s 36us/step - loss: 0.4544 - acc: 0.7936\n",
      "Epoch 60/100\n",
      "4898/4898 [==============================] - 0s 35us/step - loss: 0.4523 - acc: 0.7924\n",
      "Epoch 61/100\n",
      "4898/4898 [==============================] - 0s 48us/step - loss: 0.4538 - acc: 0.7926\n",
      "Epoch 62/100\n",
      "4898/4898 [==============================] - 0s 44us/step - loss: 0.4571 - acc: 0.7866\n",
      "Epoch 63/100\n",
      "4898/4898 [==============================] - 0s 33us/step - loss: 0.4500 - acc: 0.7942\n",
      "Epoch 64/100\n",
      "4898/4898 [==============================] - 0s 49us/step - loss: 0.4535 - acc: 0.7952\n",
      "Epoch 65/100\n",
      "4898/4898 [==============================] - 0s 38us/step - loss: 0.4501 - acc: 0.7944\n",
      "Epoch 66/100\n",
      "4898/4898 [==============================] - 0s 31us/step - loss: 0.4515 - acc: 0.7944\n",
      "Epoch 67/100\n",
      "4898/4898 [==============================] - 0s 41us/step - loss: 0.4524 - acc: 0.7940\n",
      "Epoch 68/100\n",
      "4898/4898 [==============================] - 0s 38us/step - loss: 0.4597 - acc: 0.7891\n",
      "Epoch 69/100\n",
      "4898/4898 [==============================] - 0s 30us/step - loss: 0.4562 - acc: 0.7934\n",
      "Epoch 70/100\n",
      "4898/4898 [==============================] - 0s 34us/step - loss: 0.4494 - acc: 0.7946\n",
      "Epoch 71/100\n",
      "4898/4898 [==============================] - 0s 33us/step - loss: 0.4495 - acc: 0.7928\n",
      "Epoch 72/100\n",
      "4898/4898 [==============================] - 0s 33us/step - loss: 0.4568 - acc: 0.7920\n",
      "Epoch 73/100\n",
      "4898/4898 [==============================] - 0s 33us/step - loss: 0.4493 - acc: 0.7960\n",
      "Epoch 74/100\n",
      "4898/4898 [==============================] - 0s 32us/step - loss: 0.4505 - acc: 0.7969\n",
      "Epoch 75/100\n",
      "4898/4898 [==============================] - 0s 34us/step - loss: 0.4519 - acc: 0.7942\n",
      "Epoch 76/100\n",
      "4898/4898 [==============================] - 0s 33us/step - loss: 0.4537 - acc: 0.7920\n",
      "Epoch 77/100\n",
      "4898/4898 [==============================] - 0s 36us/step - loss: 0.4515 - acc: 0.7969\n",
      "Epoch 78/100\n",
      "4898/4898 [==============================] - 0s 34us/step - loss: 0.4493 - acc: 0.7967\n",
      "Epoch 79/100\n",
      "4898/4898 [==============================] - 0s 33us/step - loss: 0.4517 - acc: 0.7987\n",
      "Epoch 80/100\n",
      "4898/4898 [==============================] - 0s 36us/step - loss: 0.4505 - acc: 0.7956\n",
      "Epoch 81/100\n"
     ]
    },
    {
     "name": "stdout",
     "output_type": "stream",
     "text": [
      "4898/4898 [==============================] - 0s 32us/step - loss: 0.4547 - acc: 0.7934\n",
      "Epoch 82/100\n",
      "4898/4898 [==============================] - 0s 41us/step - loss: 0.4516 - acc: 0.7930\n",
      "Epoch 83/100\n",
      "4898/4898 [==============================] - 0s 43us/step - loss: 0.4537 - acc: 0.7930\n",
      "Epoch 84/100\n",
      "4898/4898 [==============================] - 0s 43us/step - loss: 0.4465 - acc: 0.7971\n",
      "Epoch 85/100\n",
      "4898/4898 [==============================] - 0s 43us/step - loss: 0.4479 - acc: 0.7946\n",
      "Epoch 86/100\n",
      "4898/4898 [==============================] - 0s 40us/step - loss: 0.4484 - acc: 0.7948\n",
      "Epoch 87/100\n",
      "4898/4898 [==============================] - 0s 42us/step - loss: 0.4507 - acc: 0.7907\n",
      "Epoch 88/100\n",
      "4898/4898 [==============================] - 0s 43us/step - loss: 0.4474 - acc: 0.7934\n",
      "Epoch 89/100\n",
      "4898/4898 [==============================] - 0s 41us/step - loss: 0.4474 - acc: 0.7936\n",
      "Epoch 90/100\n",
      "4898/4898 [==============================] - 0s 41us/step - loss: 0.4538 - acc: 0.7891\n",
      "Epoch 91/100\n",
      "4898/4898 [==============================] - 0s 43us/step - loss: 0.4481 - acc: 0.7946\n",
      "Epoch 92/100\n",
      "4898/4898 [==============================] - 0s 44us/step - loss: 0.4474 - acc: 0.7938\n",
      "Epoch 93/100\n",
      "4898/4898 [==============================] - 0s 42us/step - loss: 0.4472 - acc: 0.7928\n",
      "Epoch 94/100\n",
      "4898/4898 [==============================] - 0s 43us/step - loss: 0.4493 - acc: 0.7946\n",
      "Epoch 95/100\n",
      "4898/4898 [==============================] - 0s 43us/step - loss: 0.4541 - acc: 0.7952\n",
      "Epoch 96/100\n",
      "4898/4898 [==============================] - 0s 40us/step - loss: 0.4510 - acc: 0.7901\n",
      "Epoch 97/100\n",
      "4898/4898 [==============================] - 0s 51us/step - loss: 0.4551 - acc: 0.7926\n",
      "Epoch 98/100\n",
      "4898/4898 [==============================] - 0s 43us/step - loss: 0.4523 - acc: 0.7932\n",
      "Epoch 99/100\n",
      "4898/4898 [==============================] - 0s 41us/step - loss: 0.4469 - acc: 0.7946\n",
      "Epoch 100/100\n",
      "4898/4898 [==============================] - 0s 45us/step - loss: 0.4524 - acc: 0.7944\n"
     ]
    }
   ],
   "source": [
    "model = Sequential()\n",
    "model.add(Dense(2, input_shape=(11,)))\n",
    "model.add(Activation('softmax'))\n",
    "\n",
    "model.compile(loss='categorical_crossentropy',\n",
    "              optimizer='Adam',\n",
    "              metrics=['accuracy'])\n",
    "\n",
    "hist = model.fit(X, Y, epochs=100, verbose=1)"
   ]
  },
  {
   "cell_type": "code",
   "execution_count": 57,
   "metadata": {},
   "outputs": [
    {
     "data": {
      "text/plain": [
       "<matplotlib.axes._subplots.AxesSubplot at 0x265f0611908>"
      ]
     },
     "execution_count": 57,
     "metadata": {},
     "output_type": "execute_result"
    },
    {
     "data": {
      "image/png": "[encoded data removed]",
      "text/plain": [
       "<Figure size 432x288 with 1 Axes>"
      ]
     },
     "metadata": {},
     "output_type": "display_data"
    }
   ],
   "source": [
    "accuracy = pd.DataFrame()\n",
    "accuracy['epoch'] = hist.epoch\n",
    "accuracy['accuracy'] = hist.history['acc']\n",
    "accuracy.plot.line(x='epoch', y='accuracy')"
   ]
  },
  {
   "cell_type": "code",
   "execution_count": 58,
   "metadata": {},
   "outputs": [
    {
     "data": {
      "text/plain": [
       "array([3838, 1060], dtype=uint32)"
      ]
     },
     "execution_count": 58,
     "metadata": {},
     "output_type": "execute_result"
    }
   ],
   "source": [
    "Y.sum(axis=0)"
   ]
  },
  {
   "cell_type": "markdown",
   "metadata": {},
   "source": [
    "I have 3838 'bad' and 1060 'good', so guess 'bad'"
   ]
  },
  {
   "cell_type": "code",
   "execution_count": 59,
   "metadata": {},
   "outputs": [
    {
     "data": {
      "text/plain": [
       "0.7835851367905268"
      ]
     },
     "execution_count": 59,
     "metadata": {},
     "output_type": "execute_result"
    }
   ],
   "source": [
    "3838/(3838+1060)"
   ]
  },
  {
   "cell_type": "markdown",
   "metadata": {},
   "source": [
    "Our classifier is about 80% right, but guessing is 78.3%"
   ]
  },
  {
   "cell_type": "markdown",
   "metadata": {},
   "source": [
    "Maybe splitting better would give better results."
   ]
  },
  {
   "cell_type": "code",
   "execution_count": null,
   "metadata": {},
   "outputs": [],
   "source": []
  }
 ],
 "metadata": {
  "kernelspec": {
   "display_name": "Python 3",
   "language": "python",
   "name": "python3"
  },
  "language_info": {
   "codemirror_mode": {
    "name": "ipython",
    "version": 3
   },
   "file_extension": ".py",
   "mimetype": "text/x-python",
   "name": "python",
   "nbconvert_exporter": "python",
   "pygments_lexer": "ipython3",
   "version": "3.6.5"
  }
 },
 "nbformat": 4,
 "nbformat_minor": 2
}
