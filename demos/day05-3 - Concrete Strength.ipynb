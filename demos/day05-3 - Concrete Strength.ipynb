{
 "cells": [
  {
   "cell_type": "markdown",
   "metadata": {},
   "source": [
    "# day05-3 - Concrete Strength"
   ]
  },
  {
   "cell_type": "code",
   "execution_count": 4,
   "metadata": {},
   "outputs": [],
   "source": [
    "import numpy as np\n",
    "import pandas as pd\n",
    "from keras.models import Sequential\n",
    "from keras.layers.core import Dense, Activation\n",
    "from keras.optimizers import Adam, SGD\n",
    "import matplotlib.pyplot as plt\n",
    "%matplotlib inline"
   ]
  },
  {
   "cell_type": "code",
   "execution_count": 5,
   "metadata": {},
   "outputs": [
    {
     "data": {
      "text/html": [
       "<div>\n",
       "<style scoped>\n",
       "    .dataframe tbody tr th:only-of-type {\n",
       "        vertical-align: middle;\n",
       "    }\n",
       "\n",
       "    .dataframe tbody tr th {\n",
       "        vertical-align: top;\n",
       "    }\n",
       "\n",
       "    .dataframe thead th {\n",
       "        text-align: right;\n",
       "    }\n",
       "</style>\n",
       "<table border=\"1\" class=\"dataframe\">\n",
       "  <thead>\n",
       "    <tr style=\"text-align: right;\">\n",
       "      <th></th>\n",
       "      <th>Cement (component 1)(kg in a m^3 mixture)</th>\n",
       "      <th>Blast Furnace Slag (component 2)(kg in a m^3 mixture)</th>\n",
       "      <th>Fly Ash (component 3)(kg in a m^3 mixture)</th>\n",
       "      <th>Water  (component 4)(kg in a m^3 mixture)</th>\n",
       "      <th>Superplasticizer (component 5)(kg in a m^3 mixture)</th>\n",
       "      <th>Coarse Aggregate  (component 6)(kg in a m^3 mixture)</th>\n",
       "      <th>Fine Aggregate (component 7)(kg in a m^3 mixture)</th>\n",
       "      <th>Age (day)</th>\n",
       "      <th>Concrete compressive strength(MPa, megapascals)</th>\n",
       "    </tr>\n",
       "  </thead>\n",
       "  <tbody>\n",
       "    <tr>\n",
       "      <th>0</th>\n",
       "      <td>233.81</td>\n",
       "      <td>0.0</td>\n",
       "      <td>94.58</td>\n",
       "      <td>197.89</td>\n",
       "      <td>4.567</td>\n",
       "      <td>947.04</td>\n",
       "      <td>852.16</td>\n",
       "      <td>28</td>\n",
       "      <td>22.835445</td>\n",
       "    </tr>\n",
       "    <tr>\n",
       "      <th>1</th>\n",
       "      <td>251.81</td>\n",
       "      <td>0.0</td>\n",
       "      <td>99.94</td>\n",
       "      <td>146.14</td>\n",
       "      <td>12.350</td>\n",
       "      <td>1006.00</td>\n",
       "      <td>899.76</td>\n",
       "      <td>56</td>\n",
       "      <td>44.140254</td>\n",
       "    </tr>\n",
       "    <tr>\n",
       "      <th>2</th>\n",
       "      <td>252.00</td>\n",
       "      <td>0.0</td>\n",
       "      <td>0.00</td>\n",
       "      <td>186.00</td>\n",
       "      <td>0.000</td>\n",
       "      <td>1111.00</td>\n",
       "      <td>784.00</td>\n",
       "      <td>7</td>\n",
       "      <td>11.465986</td>\n",
       "    </tr>\n",
       "  </tbody>\n",
       "</table>\n",
       "</div>"
      ],
      "text/plain": [
       "  ...\n",
       "0 ...\n",
       "1 ...\n",
       "2 ...\n",
       "\n",
       "[3 rows x 9 columns]"
      ]
     },
     "execution_count": 5,
     "metadata": {},
     "output_type": "execute_result"
    }
   ],
   "source": [
    "df = pd.read_csv(\"../data/Concrete_train.csv\")\n",
    "df.head(3)"
   ]
  },
  {
   "cell_type": "code",
   "execution_count": 6,
   "metadata": {},
   "outputs": [
    {
     "data": {
      "text/plain": [
       "(700, 9)"
      ]
     },
     "execution_count": 6,
     "metadata": {},
     "output_type": "execute_result"
    }
   ],
   "source": [
    "df.shape"
   ]
  },
  {
   "cell_type": "code",
   "execution_count": 8,
   "metadata": {},
   "outputs": [
    {
     "data": {
      "text/html": [
       "<div>\n",
       "<style scoped>\n",
       "    .dataframe tbody tr th:only-of-type {\n",
       "        vertical-align: middle;\n",
       "    }\n",
       "\n",
       "    .dataframe tbody tr th {\n",
       "        vertical-align: top;\n",
       "    }\n",
       "\n",
       "    .dataframe thead th {\n",
       "        text-align: right;\n",
       "    }\n",
       "</style>\n",
       "<table border=\"1\" class=\"dataframe\">\n",
       "  <thead>\n",
       "    <tr style=\"text-align: right;\">\n",
       "      <th></th>\n",
       "      <th>Cement (component 1)(kg in a m^3 mixture)</th>\n",
       "      <th>Blast Furnace Slag (component 2)(kg in a m^3 mixture)</th>\n",
       "      <th>Fly Ash (component 3)(kg in a m^3 mixture)</th>\n",
       "      <th>Water  (component 4)(kg in a m^3 mixture)</th>\n",
       "      <th>Superplasticizer (component 5)(kg in a m^3 mixture)</th>\n",
       "      <th>Coarse Aggregate  (component 6)(kg in a m^3 mixture)</th>\n",
       "      <th>Fine Aggregate (component 7)(kg in a m^3 mixture)</th>\n",
       "      <th>Age (day)</th>\n",
       "    </tr>\n",
       "  </thead>\n",
       "  <tbody>\n",
       "    <tr>\n",
       "      <th>0</th>\n",
       "      <td>-0.433823</td>\n",
       "      <td>-0.851957</td>\n",
       "      <td>0.593069</td>\n",
       "      <td>0.738156</td>\n",
       "      <td>-0.298518</td>\n",
       "      <td>-0.312014</td>\n",
       "      <td>0.960384</td>\n",
       "      <td>-0.297290</td>\n",
       "    </tr>\n",
       "    <tr>\n",
       "      <th>1</th>\n",
       "      <td>-0.260131</td>\n",
       "      <td>-0.851957</td>\n",
       "      <td>0.675677</td>\n",
       "      <td>-1.635245</td>\n",
       "      <td>1.008687</td>\n",
       "      <td>0.442114</td>\n",
       "      <td>1.542537</td>\n",
       "      <td>0.152766</td>\n",
       "    </tr>\n",
       "    <tr>\n",
       "      <th>2</th>\n",
       "      <td>-0.258298</td>\n",
       "      <td>-0.851957</td>\n",
       "      <td>-0.864589</td>\n",
       "      <td>0.192847</td>\n",
       "      <td>-1.065575</td>\n",
       "      <td>1.785116</td>\n",
       "      <td>0.126779</td>\n",
       "      <td>-0.634832</td>\n",
       "    </tr>\n",
       "  </tbody>\n",
       "</table>\n",
       "</div>"
      ],
      "text/plain": [
       "   Cement (component 1)(kg in a m^3 mixture)    ...      Age (day)\n",
       "0                                  -0.433823    ...      -0.297290\n",
       "1                                  -0.260131    ...       0.152766\n",
       "2                                  -0.258298    ...      -0.634832\n",
       "\n",
       "[3 rows x 8 columns]"
      ]
     },
     "execution_count": 8,
     "metadata": {},
     "output_type": "execute_result"
    }
   ],
   "source": [
    "features = df.drop(df.columns[-1], axis=1)\n",
    "features = (features - features.mean())/features.std()\n",
    "features.head(3)"
   ]
  },
  {
   "cell_type": "code",
   "execution_count": 9,
   "metadata": {},
   "outputs": [],
   "source": [
    "target = df[df.columns[-1]]\n",
    "X = features.values\n",
    "y = target.values"
   ]
  },
  {
   "cell_type": "code",
   "execution_count": 38,
   "metadata": {},
   "outputs": [
    {
     "data": {
      "text/plain": [
       "(700,)"
      ]
     },
     "execution_count": 38,
     "metadata": {},
     "output_type": "execute_result"
    }
   ],
   "source": [
    "y.shape"
   ]
  },
  {
   "cell_type": "markdown",
   "metadata": {},
   "source": [
    "Switching from ADAM to SGD makes it converge much faster"
   ]
  },
  {
   "cell_type": "code",
   "execution_count": 18,
   "metadata": {},
   "outputs": [
    {
     "name": "stdout",
     "output_type": "stream",
     "text": [
      "RMSE valication =  10.084989394471377\n"
     ]
    },
    {
     "data": {
      "image/png": "[encoded data removed]",
      "text/plain": [
       "<Figure size 432x288 with 1 Axes>"
      ]
     },
     "metadata": {},
     "output_type": "display_data"
    }
   ],
   "source": [
    "model = Sequential()\n",
    "model.add(Dense(1, input_shape=(8,)))\n",
    "model.compile(loss='mean_squared_error', optimizer='SGD')\n",
    "hist = model.fit(X, y, epochs=100, validation_split=0.2, verbose=0)\n",
    "results = pd.DataFrame()\n",
    "results['epoch'] = hist.epoch\n",
    "results['epoch'] = results['epoch'] + 1\n",
    "results['training'] = np.sqrt(hist.history['loss'])\n",
    "results['validation'] = np.sqrt(hist.history['val_loss'])\n",
    "results['baseline'] = y.std()\n",
    "ax = results.plot.line(x='epoch', y='training')\n",
    "ax = results.plot.line(x='epoch', y='validation', ax = ax)\n",
    "ax = results.plot.line(x='epoch', y='baseline',   ax = ax)\n",
    "print('RMSE valication = ', results.validation.iloc[-1])"
   ]
  },
  {
   "cell_type": "markdown",
   "metadata": {},
   "source": [
    "Training and validation are very close.  Could be underfitting.\n",
    "Drive the training error to 0.  \n",
    "Add more layers"
   ]
  },
  {
   "cell_type": "code",
   "execution_count": 21,
   "metadata": {},
   "outputs": [
    {
     "name": "stdout",
     "output_type": "stream",
     "text": [
      "RMSE valication =  10.148009824703266\n"
     ]
    },
    {
     "data": {
      "image/png": "[encoded data removed]",
      "text/plain": [
       "<Figure size 432x288 with 1 Axes>"
      ]
     },
     "metadata": {},
     "output_type": "display_data"
    }
   ],
   "source": [
    "outputs = 8\n",
    "model = Sequential()\n",
    "model.add(Dense(outputs, input_shape=(8,)))\n",
    "# Add a layer. karas knows to use the output from pervious layer.\n",
    "model.add(Dense(1))\n",
    "model.compile(loss='mean_squared_error', optimizer='Adam')\n",
    "hist = model.fit(X, y, epochs=500, validation_split=0.2, verbose=0)\n",
    "results = pd.DataFrame()\n",
    "results['epoch'] = hist.epoch\n",
    "results['epoch'] = results['epoch'] + 1\n",
    "results['training'] = np.sqrt(hist.history['loss'])\n",
    "results['validation'] = np.sqrt(hist.history['val_loss'])\n",
    "results['baseline'] = y.std()\n",
    "ax = results.plot.line(x='epoch', y='training')\n",
    "ax = results.plot.line(x='epoch', y='validation', ax = ax)\n",
    "ax = results.plot.line(x='epoch', y='baseline',   ax = ax)\n",
    "print('RMSE valication = ', results.validation.iloc[-1])"
   ]
  },
  {
   "cell_type": "markdown",
   "metadata": {},
   "source": [
    "Add a non-linear layer so the linear layers don't collaps into 1 layer."
   ]
  },
  {
   "cell_type": "code",
   "execution_count": 37,
   "metadata": {},
   "outputs": [
    {
     "name": "stdout",
     "output_type": "stream",
     "text": [
      "RMSE training   =  4.859407393102657\n",
      "RMSE valication =  6.492946348127565\n"
     ]
    },
    {
     "data": {
      "image/png": "[encoded data removed]",
      "text/plain": [
       "<Figure size 432x288 with 1 Axes>"
      ]
     },
     "metadata": {},
     "output_type": "display_data"
    }
   ],
   "source": [
    "outputs = 8\n",
    "model = Sequential()\n",
    "model.add(Dense(outputs, input_shape=(8,)))\n",
    "# Add a non-linear layer to separate the two linear layers.\n",
    "model.add(Activation('relu'))\n",
    "# Add a layer. karas knows to use the output from pervious layer.\n",
    "model.add(Dense(outputs))\n",
    "model.add(Activation('relu'))\n",
    "model.add(Dense(outputs))\n",
    "model.add(Activation('relu'))\n",
    "model.add(Dense(outputs))\n",
    "# Add two more layers\n",
    "model.add(Activation('relu'))\n",
    "model.add(Dense(1))\n",
    "model.compile(loss='mean_squared_error', optimizer='Adam')\n",
    "hist = model.fit(X, y, epochs=1000, validation_split=0.2, verbose=0)\n",
    "results = pd.DataFrame()\n",
    "results['epoch'] = hist.epoch\n",
    "results['epoch'] = results['epoch'] + 1\n",
    "results['training'] = np.sqrt(hist.history['loss'])\n",
    "results['validation'] = np.sqrt(hist.history['val_loss'])\n",
    "results['baseline'] = y.std()\n",
    "ax = results.plot.line(x='epoch', y='training')\n",
    "ax = results.plot.line(x='epoch', y='validation', ax = ax)\n",
    "ax = results.plot.line(x='epoch', y='baseline',   ax = ax)\n",
    "print('RMSE training   = ', results.training.iloc[-1])\n",
    "print('RMSE valication = ', results.validation.iloc[-1])"
   ]
  },
  {
   "cell_type": "code",
   "execution_count": null,
   "metadata": {},
   "outputs": [],
   "source": []
  }
 ],
 "metadata": {
  "kernelspec": {
   "display_name": "Python 3",
   "language": "python",
   "name": "python3"
  },
  "language_info": {
   "codemirror_mode": {
    "name": "ipython",
    "version": 3
   },
   "file_extension": ".py",
   "mimetype": "text/x-python",
   "name": "python",
   "nbconvert_exporter": "python",
   "pygments_lexer": "ipython3",
   "version": "3.6.5"
  }
 },
 "nbformat": 4,
 "nbformat_minor": 2
}
