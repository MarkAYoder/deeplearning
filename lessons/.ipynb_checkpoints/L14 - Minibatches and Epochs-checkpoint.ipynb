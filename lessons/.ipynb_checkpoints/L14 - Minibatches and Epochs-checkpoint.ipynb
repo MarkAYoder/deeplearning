{
 "cells": [
  {
   "cell_type": "markdown",
   "metadata": {},
   "source": [
    "# Lession 14 - Minibatches and Epochs"
   ]
  },
  {
   "cell_type": "code",
   "execution_count": 35,
   "metadata": {},
   "outputs": [],
   "source": [
    "import numpy as np\n",
    "np.random.seed(0)"
   ]
  },
  {
   "cell_type": "code",
   "execution_count": 36,
   "metadata": {},
   "outputs": [],
   "source": [
    "BATCH_SIZE = 6\n",
    "EPOCHS = 2\n",
    "N = 40"
   ]
  },
  {
   "cell_type": "markdown",
   "metadata": {},
   "source": [
    "Generate data"
   ]
  },
  {
   "cell_type": "code",
   "execution_count": 5,
   "metadata": {},
   "outputs": [
    {
     "data": {
      "text/plain": [
       "array([ 0,  1,  2,  3,  4,  5,  6,  7,  8,  9, 10, 11, 12, 13, 14, 15, 16,\n",
       "       17, 18, 19, 20, 21, 22, 23, 24, 25, 26, 27, 28, 29, 30, 31, 32, 33,\n",
       "       34, 35, 36, 37, 38, 39])"
      ]
     },
     "execution_count": 5,
     "metadata": {},
     "output_type": "execute_result"
    }
   ],
   "source": [
    "data = np.arange(N)\n",
    "data"
   ]
  },
  {
   "cell_type": "markdown",
   "metadata": {},
   "source": [
    "Randomize the data"
   ]
  },
  {
   "cell_type": "code",
   "execution_count": 32,
   "metadata": {},
   "outputs": [
    {
     "data": {
      "text/plain": [
       "array([25,  7, 24, 19, 36, 28, 13,  5, 29, 32, 12, 39, 37, 15, 31,  6,  0,\n",
       "       16, 38, 21,  8, 11, 22, 10,  4,  1, 26,  9, 14, 27, 33, 17, 20, 18,\n",
       "        3, 30, 35, 34,  2, 23])"
      ]
     },
     "execution_count": 32,
     "metadata": {},
     "output_type": "execute_result"
    }
   ],
   "source": [
    "rand_data = np.random.permutation(data)\n",
    "rand_data"
   ]
  },
  {
   "cell_type": "markdown",
   "metadata": {},
   "source": [
    "Copy data from beginning to end so each set has same amount of data."
   ]
  },
  {
   "cell_type": "code",
   "execution_count": 33,
   "metadata": {},
   "outputs": [
    {
     "data": {
      "text/plain": [
       "array([25,  7, 24, 19, 36, 28, 13,  5, 29, 32, 12, 39, 37, 15, 31,  6,  0,\n",
       "       16, 38, 21,  8, 11, 22, 10,  4,  1, 26,  9, 14, 27, 33, 17, 20, 18,\n",
       "        3, 30, 35, 34,  2, 23, 25,  7])"
      ]
     },
     "execution_count": 33,
     "metadata": {},
     "output_type": "execute_result"
    }
   ],
   "source": [
    "rand_data = np.append(rand_data, rand_data[range(int(np.ceil(N/BATCH_SIZE)*BATCH_SIZE-N))])\n",
    "rand_data"
   ]
  },
  {
   "cell_type": "code",
   "execution_count": 34,
   "metadata": {},
   "outputs": [
    {
     "data": {
      "text/plain": [
       "[array([25,  7, 24, 19, 36, 28]),\n",
       " array([13,  5, 29, 32, 12, 39]),\n",
       " array([37, 15, 31,  6,  0, 16]),\n",
       " array([38, 21,  8, 11, 22, 10]),\n",
       " array([ 4,  1, 26,  9, 14, 27]),\n",
       " array([33, 17, 20, 18,  3, 30]),\n",
       " array([35, 34,  2, 23, 25,  7])]"
      ]
     },
     "execution_count": 34,
     "metadata": {},
     "output_type": "execute_result"
    }
   ],
   "source": [
    "batch = np.array_split(rand_data, np.ceil(N/BATCH_SIZE))\n",
    "batch"
   ]
  },
  {
   "cell_type": "code",
   "execution_count": null,
   "metadata": {},
   "outputs": [],
   "source": []
  }
 ],
 "metadata": {
  "kernelspec": {
   "display_name": "Python 3",
   "language": "python",
   "name": "python3"
  },
  "language_info": {
   "codemirror_mode": {
    "name": "ipython",
    "version": 3
   },
   "file_extension": ".py",
   "mimetype": "text/x-python",
   "name": "python",
   "nbconvert_exporter": "python",
   "pygments_lexer": "ipython3",
   "version": "3.6.5"
  }
 },
 "nbformat": 4,
 "nbformat_minor": 2
}
