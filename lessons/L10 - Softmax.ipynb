{
 "cells": [
  {
   "cell_type": "markdown",
   "metadata": {},
   "source": [
    "## Lession 10 - Softmax"
   ]
  },
  {
   "cell_type": "code",
   "execution_count": 13,
   "metadata": {},
   "outputs": [],
   "source": [
    "import numpy as np\n",
    "import matplotlib.pyplot as plt\n",
    "%matplotlib inline "
   ]
  },
  {
   "cell_type": "code",
   "execution_count": 2,
   "metadata": {},
   "outputs": [],
   "source": [
    "def fsmax(x):\n",
    "    e = np.exp(x)\n",
    "    p = e/e.sum()\n",
    "    return p"
   ]
  },
  {
   "cell_type": "markdown",
   "metadata": {},
   "source": [
    "Generate a random input to test"
   ]
  },
  {
   "cell_type": "code",
   "execution_count": 9,
   "metadata": {
    "collapsed": true
   },
   "outputs": [
    {
     "data": {
      "text/plain": [
       "array([0.34123627, 0.62076789, 0.32463867, 0.86730659, 0.98480978,\n",
       "       0.90086852, 0.71512333, 0.2784132 , 0.1110239 , 0.49124356,\n",
       "       0.13800531, 0.4358128 , 0.86104098, 0.9740859 , 0.05697616,\n",
       "       0.37429717, 0.77805173, 0.06477471, 0.35716014, 0.21756497,\n",
       "       0.71840057, 0.91582665, 0.20124139, 0.60994801, 0.70595049,\n",
       "       0.83874543, 0.5202614 , 0.60758406, 0.52232082, 0.27493981,\n",
       "       0.28508794, 0.27212655, 0.58568596, 0.20171702, 0.01707136,\n",
       "       0.5533517 , 0.47851292, 0.18704399, 0.62698432, 0.55611124,\n",
       "       0.13977313, 0.29914207, 0.72592993, 0.60445148, 0.43214618,\n",
       "       0.70955567, 0.69675445, 0.91338954, 0.1693942 , 0.67909535,\n",
       "       0.23383217, 0.90062637, 0.08559342, 0.86759522, 0.02930588,\n",
       "       0.06599218, 0.70686434, 0.89859038, 0.84587246, 0.72455021,\n",
       "       0.31503669, 0.96006481, 0.19385295, 0.17041486, 0.3897279 ,\n",
       "       0.10982128, 0.74725421, 0.90467793, 0.09972551, 0.64265739,\n",
       "       0.83616761, 0.41265618, 0.27058745, 0.06248637, 0.38681759,\n",
       "       0.06193453, 0.78561564, 0.46580526, 0.34795931, 0.56274427,\n",
       "       0.73657557, 0.21742118, 0.72186043, 0.36209093, 0.05372294,\n",
       "       0.32837642, 0.26083401, 0.37235288, 0.94963184, 0.57429794,\n",
       "       0.12803783, 0.48609003, 0.49515297, 0.67290682, 0.13843743,\n",
       "       0.225222  , 0.80888034, 0.65491368, 0.32988739, 0.02012936])"
      ]
     },
     "execution_count": 9,
     "metadata": {},
     "output_type": "execute_result"
    }
   ],
   "source": [
    "x = np.random.rand(100)\n",
    "x"
   ]
  },
  {
   "cell_type": "code",
   "execution_count": 10,
   "metadata": {
    "collapsed": true
   },
   "outputs": [
    {
     "data": {
      "text/plain": [
       "array([0.00839681, 0.01110487, 0.00825859, 0.01420967, 0.0159814 ,\n",
       "       0.01469466, 0.0122037 , 0.00788553, 0.00667013, 0.00975577,\n",
       "       0.00685255, 0.00922972, 0.01412091, 0.01581093, 0.0063192 ,\n",
       "       0.00867906, 0.01299634, 0.00636867, 0.00853159, 0.00742001,\n",
       "       0.01224376, 0.01491612, 0.00729987, 0.01098536, 0.01209227,\n",
       "       0.01380956, 0.01004301, 0.01095943, 0.01006372, 0.00785818,\n",
       "       0.00793834, 0.00783611, 0.01072204, 0.00730335, 0.00607199,\n",
       "       0.0103809 , 0.00963236, 0.00719697, 0.01117412, 0.01040959,\n",
       "       0.00686468, 0.00805069, 0.01233629, 0.01092515, 0.00919594,\n",
       "       0.01213594, 0.01198158, 0.01487981, 0.00707106, 0.01177185,\n",
       "       0.0075417 , 0.0146911 , 0.00650265, 0.01421377, 0.00614674,\n",
       "       0.00637643, 0.01210332, 0.01466122, 0.01390833, 0.01231929,\n",
       "       0.00817968, 0.01559079, 0.00724614, 0.00707828, 0.00881402,\n",
       "       0.00666212, 0.01260218, 0.01475075, 0.00659519, 0.01135063,\n",
       "       0.01377401, 0.00901845, 0.00782406, 0.00635411, 0.00878841,\n",
       "       0.00635061, 0.01309501, 0.00951073, 0.00845345, 0.01047886,\n",
       "       0.01246832, 0.00741895, 0.01228619, 0.00857376, 0.00629867,\n",
       "       0.00828952, 0.00774812, 0.0086622 , 0.01542898, 0.01060063,\n",
       "       0.00678459, 0.00970563, 0.00979399, 0.01169923, 0.00685551,\n",
       "       0.00747705, 0.01340324, 0.0114906 , 0.00830206, 0.00609059])"
      ]
     },
     "execution_count": 10,
     "metadata": {},
     "output_type": "execute_result"
    }
   ],
   "source": [
    "p = fsmax(x)\n",
    "p"
   ]
  },
  {
   "cell_type": "code",
   "execution_count": 11,
   "metadata": {},
   "outputs": [
    {
     "data": {
      "text/plain": [
       "1.0"
      ]
     },
     "execution_count": 11,
     "metadata": {},
     "output_type": "execute_result"
    }
   ],
   "source": [
    "p.sum()"
   ]
  },
  {
   "cell_type": "code",
   "execution_count": 17,
   "metadata": {},
   "outputs": [],
   "source": [
    "N=1000\n",
    "p = np.zeros(N)\n",
    "for i in range(0, N):\n",
    "    x = np.random.rand(100)\n",
    "    p[i] = fsmax(x).sum()\n"
   ]
  },
  {
   "cell_type": "code",
   "execution_count": 18,
   "metadata": {},
   "outputs": [
    {
     "data": {
      "text/plain": [
       "[<matplotlib.lines.Line2D at 0x212d2441128>]"
      ]
     },
     "execution_count": 18,
     "metadata": {},
     "output_type": "execute_result"
    },
    {
     "data": {
      "image/png": "[encoded data removed]",
      "text/plain": [
       "<Figure size 432x288 with 1 Axes>"
      ]
     },
     "metadata": {},
     "output_type": "display_data"
    }
   ],
   "source": [
    "plt.plot(p)"
   ]
  },
  {
   "cell_type": "code",
   "execution_count": null,
   "metadata": {},
   "outputs": [],
   "source": []
  }
 ],
 "metadata": {
  "kernelspec": {
   "display_name": "Python 3",
   "language": "python",
   "name": "python3"
  },
  "language_info": {
   "codemirror_mode": {
    "name": "ipython",
    "version": 3
   },
   "file_extension": ".py",
   "mimetype": "text/x-python",
   "name": "python",
   "nbconvert_exporter": "python",
   "pygments_lexer": "ipython3",
   "version": "3.6.5"
  }
 },
 "nbformat": 4,
 "nbformat_minor": 2
}
