{
 "cells": [
  {
   "cell_type": "markdown",
   "metadata": {},
   "source": [
    "# Lession 14 - Minibatches and Epochs"
   ]
  },
  {
   "cell_type": "code",
   "execution_count": 35,
   "metadata": {},
   "outputs": [],
   "source": [
    "import numpy as np\n",
    "np.random.seed(0)"
   ]
  },
  {
   "cell_type": "code",
   "execution_count": 36,
   "metadata": {},
   "outputs": [],
   "source": [
    "BATCH_SIZE = 6\n",
    "EPOCHS = 2\n",
    "N = 40"
   ]
  },
  {
   "cell_type": "markdown",
   "metadata": {},
   "source": [
    "Generate data"
   ]
  },
  {
   "cell_type": "code",
   "execution_count": 24,
   "metadata": {},
   "outputs": [
    {
     "data": {
      "text/plain": [
       "array([ 0,  1,  2,  3,  4,  5,  6,  7,  8,  9, 10, 11, 12, 13, 14, 15, 16,\n",
       "       17, 18, 19, 20, 21, 22, 23, 24, 25, 26, 27, 28, 29, 30, 31, 32, 33,\n",
       "       34, 35, 36, 37, 38, 39])"
      ]
     },
     "execution_count": 24,
     "metadata": {},
     "output_type": "execute_result"
    }
   ],
   "source": [
    "data = np.arange(N)\n",
    "data"
   ]
  },
  {
   "cell_type": "markdown",
   "metadata": {},
   "source": [
    "Randomize the data"
   ]
  },
  {
   "cell_type": "code",
   "execution_count": 25,
   "metadata": {},
   "outputs": [
    {
     "data": {
      "text/plain": [
       "array([32,  5, 33, 28,  7, 37, 39, 12, 21, 13, 25, 23, 15, 29, 31, 36,  6,\n",
       "       38,  0, 16, 19,  2, 24,  8, 11, 22, 10,  4,  1, 26,  9, 14, 27, 17,\n",
       "       20, 18,  3, 30, 35, 34])"
      ]
     },
     "execution_count": 25,
     "metadata": {},
     "output_type": "execute_result"
    }
   ],
   "source": [
    "rand_data = np.random.permutation(data)\n",
    "rand_data"
   ]
  },
  {
   "cell_type": "markdown",
   "metadata": {},
   "source": [
    "Copy data from beginning to end so each set has same amount of data."
   ]
  },
  {
   "cell_type": "code",
   "execution_count": 26,
   "metadata": {},
   "outputs": [
    {
     "data": {
      "text/plain": [
       "array([32,  5, 33, 28,  7, 37, 39, 12, 21, 13, 25, 23, 15, 29, 31, 36,  6,\n",
       "       38,  0, 16, 19,  2, 24,  8, 11, 22, 10,  4,  1, 26,  9, 14, 27, 17,\n",
       "       20, 18,  3, 30, 35, 34, 32,  5])"
      ]
     },
     "execution_count": 26,
     "metadata": {},
     "output_type": "execute_result"
    }
   ],
   "source": [
    "rand_data = np.append(rand_data, rand_data[range(int(np.ceil(N/BATCH_SIZE)*BATCH_SIZE-N))])\n",
    "rand_data"
   ]
  },
  {
   "cell_type": "code",
   "execution_count": 27,
   "metadata": {},
   "outputs": [
    {
     "data": {
      "text/plain": [
       "[array([32,  5, 33, 28,  7, 37]),\n",
       " array([39, 12, 21, 13, 25, 23]),\n",
       " array([15, 29, 31, 36,  6, 38]),\n",
       " array([ 0, 16, 19,  2, 24,  8]),\n",
       " array([11, 22, 10,  4,  1, 26]),\n",
       " array([ 9, 14, 27, 17, 20, 18]),\n",
       " array([ 3, 30, 35, 34, 32,  5])]"
      ]
     },
     "execution_count": 27,
     "metadata": {},
     "output_type": "execute_result"
    }
   ],
   "source": [
    "batch = np.array_split(rand_data, np.ceil(N/BATCH_SIZE))\n",
    "batch"
   ]
  },
  {
   "cell_type": "code",
   "execution_count": null,
   "metadata": {},
   "outputs": [],
   "source": []
  }
 ],
 "metadata": {
  "kernelspec": {
   "display_name": "Python 3",
   "language": "python",
   "name": "python3"
  },
  "language_info": {
   "codemirror_mode": {
    "name": "ipython",
    "version": 3
   },
   "file_extension": ".py",
   "mimetype": "text/x-python",
   "name": "python",
   "nbconvert_exporter": "python",
   "pygments_lexer": "ipython3",
   "version": "3.6.5"
  }
 },
 "nbformat": 4,
 "nbformat_minor": 2
}
