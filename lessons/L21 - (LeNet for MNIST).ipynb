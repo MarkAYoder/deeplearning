{
 "cells": [
  {
   "cell_type": "markdown",
   "metadata": {},
   "source": [
    "# Lession 21 - (LeNet for MNIST)"
   ]
  },
  {
   "cell_type": "code",
   "execution_count": 40,
   "metadata": {},
   "outputs": [],
   "source": [
    "import numpy as np\n",
    "import pandas as pd\n",
    "from keras.models import Sequential\n",
    "from keras.layers.core import Dense, Activation, Flatten\n",
    "from keras.layers.convolutional import Conv2D, MaxPooling2D\n",
    "from keras.callbacks import EarlyStopping\n",
    "# New\n",
    "from keras.preprocessing.image import ImageDataGenerator\n",
    "from keras.applications import VGG16\n",
    "# from keras.optimizers import Adam\n",
    "import matplotlib.pyplot as plt\n",
    "from time import time\n",
    "%matplotlib inline"
   ]
  },
  {
   "cell_type": "code",
   "execution_count": 13,
   "metadata": {},
   "outputs": [
    {
     "name": "stdout",
     "output_type": "stream",
     "text": [
      "(1000, 28, 28)\n",
      "(1000,)\n"
     ]
    }
   ],
   "source": [
    "MNIST = np.load('../data/MNIST_train_1000.npz')\n",
    "images = MNIST['train_images']\n",
    "labels = MNIST['train_labels']\n",
    "print(images.shape)\n",
    "print(labels.shape)"
   ]
  },
  {
   "cell_type": "markdown",
   "metadata": {},
   "source": [
    "Need to add extra dimension for B&W images to make it a 4D tensor"
   ]
  },
  {
   "cell_type": "code",
   "execution_count": 17,
   "metadata": {},
   "outputs": [
    {
     "name": "stdout",
     "output_type": "stream",
     "text": [
      "(1000, 28, 28, 1)\n",
      "(1000, 2)\n"
     ]
    }
   ],
   "source": [
    "X = np.expand_dims(images, -1)\n",
    "print(X.shape)\n",
    "P = pd.get_dummies(pd.DataFrame(labels, columns=['digits'], dtype='category')).values\n",
    "print(P.shape)\n"
   ]
  },
  {
   "cell_type": "markdown",
   "metadata": {},
   "source": [
    "Does it need scaling?  No"
   ]
  },
  {
   "cell_type": "code",
   "execution_count": 19,
   "metadata": {},
   "outputs": [
    {
     "data": {
      "text/plain": [
       "1.0"
      ]
     },
     "execution_count": 19,
     "metadata": {},
     "output_type": "execute_result"
    }
   ],
   "source": [
    "X.max()"
   ]
  },
  {
   "cell_type": "code",
   "execution_count": 32,
   "metadata": {},
   "outputs": [
    {
     "name": "stdout",
     "output_type": "stream",
     "text": [
      "_________________________________________________________________\n",
      "Layer (type)                 Output Shape              Param #   \n",
      "=================================================================\n",
      "conv2d_12 (Conv2D)           (None, 28, 28, 20)        520       \n",
      "_________________________________________________________________\n",
      "activation_13 (Activation)   (None, 28, 28, 20)        0         \n",
      "_________________________________________________________________\n",
      "max_pooling2d_11 (MaxPooling (None, 14, 14, 20)        0         \n",
      "_________________________________________________________________\n",
      "conv2d_13 (Conv2D)           (None, 14, 14, 50)        25050     \n",
      "_________________________________________________________________\n",
      "activation_14 (Activation)   (None, 14, 14, 50)        0         \n",
      "_________________________________________________________________\n",
      "max_pooling2d_12 (MaxPooling (None, 7, 7, 50)          0         \n",
      "_________________________________________________________________\n",
      "flatten_5 (Flatten)          (None, 2450)              0         \n",
      "_________________________________________________________________\n",
      "dense_4 (Dense)              (None, 500)               1225500   \n",
      "_________________________________________________________________\n",
      "dense_5 (Dense)              (None, 2)                 1002      \n",
      "=================================================================\n",
      "Total params: 1,252,072\n",
      "Trainable params: 1,252,072\n",
      "Non-trainable params: 0\n",
      "_________________________________________________________________\n"
     ]
    }
   ],
   "source": [
    "# build LeNet\n",
    "model = Sequential()\n",
    "def BuildLeNet(model, input_shape=(32, 32, 3), outputs=10):\n",
    "    # 20 channels out, 5 x 5 kernel, keep size the same\n",
    "    model.add(Conv2D(20, 5, padding='same', input_shape=input_shape))\n",
    "    model.add(Activation('relu'))\n",
    "    # pool_size = size of pooling operation, strides=2 - Downsample by 2 in each directions\n",
    "    model.add(MaxPooling2D(pool_size=2, strides=2))\n",
    "    model.add(Conv2D(50, 5, padding='same'))\n",
    "    model.add(Activation('relu'))\n",
    "    model.add(MaxPooling2D(pool_size=2, strides=2))\n",
    "    model.add(Flatten())\n",
    "    model.add(Dense(500, activation='relu'))\n",
    "    model.add(Dense(2,   activation='softmax'))\n",
    "    return model\n",
    "\n",
    "LeNet = BuildLeNet(model, input_shape=(28, 28, 1), outputs=2)\n",
    "model.summary()\n"
   ]
  },
  {
   "cell_type": "code",
   "execution_count": 37,
   "metadata": {
    "scrolled": false
   },
   "outputs": [
    {
     "name": "stdout",
     "output_type": "stream",
     "text": [
      "Train on 800 samples, validate on 200 samples\n",
      "Epoch 1/100\n",
      "800/800 [==============================] - 1s 2ms/step - loss: 0.0137 - acc: 0.9950 - val_loss: 0.1052 - val_acc: 0.9750\n",
      "Epoch 2/100\n",
      "800/800 [==============================] - 1s 855us/step - loss: 0.0121 - acc: 0.9937 - val_loss: 0.0685 - val_acc: 0.9900\n",
      "Epoch 3/100\n",
      "800/800 [==============================] - 1s 838us/step - loss: 0.0027 - acc: 0.9988 - val_loss: 0.1105 - val_acc: 0.9800\n",
      "Epoch 4/100\n",
      "800/800 [==============================] - 1s 841us/step - loss: 0.0013 - acc: 1.0000 - val_loss: 0.0919 - val_acc: 0.9850\n",
      "Epoch 5/100\n",
      "800/800 [==============================] - 1s 913us/step - loss: 2.2450e-04 - acc: 1.0000 - val_loss: 0.1078 - val_acc: 0.9800\n"
     ]
    }
   ],
   "source": [
    "LeNet.compile(loss='categorical_crossentropy',\n",
    "             optimizer='Adam',\n",
    "             metrics=['accuracy'])\n",
    "hist = LeNet.fit(X, P, epochs=100, validation_split=0.2, verbose=1,\n",
    "                callbacks=[EarlyStopping(patience=3)])"
   ]
  },
  {
   "cell_type": "code",
   "execution_count": null,
   "metadata": {},
   "outputs": [],
   "source": []
  }
 ],
 "metadata": {
  "kernelspec": {
   "display_name": "Python 3",
   "language": "python",
   "name": "python3"
  },
  "language_info": {
   "codemirror_mode": {
    "name": "ipython",
    "version": 3
   },
   "file_extension": ".py",
   "mimetype": "text/x-python",
   "name": "python",
   "nbconvert_exporter": "python",
   "pygments_lexer": "ipython3",
   "version": "3.6.5"
  }
 },
 "nbformat": 4,
 "nbformat_minor": 2
}
