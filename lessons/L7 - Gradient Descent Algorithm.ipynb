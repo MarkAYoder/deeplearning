{
 "cells": [
  {
   "cell_type": "markdown",
   "metadata": {},
   "source": [
    "## Lession 7 - Gradient Descent Algorithm"
   ]
  },
  {
   "cell_type": "code",
   "execution_count": 68,
   "metadata": {},
   "outputs": [],
   "source": [
    "import numpy as np\n",
    "import pandas as pd\n",
    "import matplotlib.pyplot as plt\n",
    "import time\n",
    "%matplotlib inline"
   ]
  },
  {
   "cell_type": "code",
   "execution_count": 3,
   "metadata": {},
   "outputs": [],
   "source": [
    "y = np.array([128,123,129,143,132,142,112,118,108,119])"
   ]
  },
  {
   "cell_type": "code",
   "execution_count": 13,
   "metadata": {},
   "outputs": [],
   "source": [
    "def loss(b, y):\n",
    "    return((b-y)*(b-y)).mean()\n",
    "def dloss_db(b, y):\n",
    "    return (b-y).mean()"
   ]
  },
  {
   "cell_type": "code",
   "execution_count": 10,
   "metadata": {},
   "outputs": [
    {
     "data": {
      "text/plain": [
       "-124.4"
      ]
     },
     "execution_count": 10,
     "metadata": {},
     "output_type": "execute_result"
    }
   ],
   "source": [
    "dl_db(1, y)"
   ]
  },
  {
   "cell_type": "code",
   "execution_count": 12,
   "metadata": {},
   "outputs": [
    {
     "data": {
      "text/plain": [
       "15598.6"
      ]
     },
     "execution_count": 12,
     "metadata": {},
     "output_type": "execute_result"
    }
   ],
   "source": [
    "loss(1, y)"
   ]
  },
  {
   "cell_type": "code",
   "execution_count": 69,
   "metadata": {},
   "outputs": [],
   "source": [
    "h = 0.5\n",
    "b = 100\n",
    "fmin = loss(b, y)"
   ]
  },
  {
   "cell_type": "code",
   "execution_count": 73,
   "metadata": {},
   "outputs": [
    {
     "name": "stdout",
     "output_type": "stream",
     "text": [
      "125.39999394416809 123.24000000003666\n",
      "125.39999697208404 123.24000000000918\n",
      "125.39999848604202 123.24000000000233\n",
      "125.39999924302101 123.24000000000058\n",
      "125.3999996215105 123.24000000000015\n",
      "125.39999981075525 123.24000000000005\n",
      "125.39999990537763 123.24000000000001\n",
      "125.39999995268882 123.23999999999998\n",
      "125.3999999763444 123.23999999999998\n",
      "125.3999999881722 123.24000000000001\n",
      "125.3999999940861 123.24000000000001\n",
      "125.39999999704305 123.24000000000004\n",
      "125.39999999852152 123.23999999999998\n",
      "125.39999999926076 123.24000000000001\n",
      "125.39999999963038 123.24000000000001\n",
      "125.3999999998152 123.24000000000001\n",
      "125.39999999990759 123.24000000000001\n",
      "125.39999999995379 123.24000000000001\n",
      "125.3999999999769 123.23999999999997\n",
      "125.39999999998845 123.24000000000001\n",
      "125.39999999999422 123.24000000000001\n",
      "125.3999999999971 123.24000000000001\n",
      "125.39999999999856 123.23999999999998\n",
      "125.39999999999928 123.23999999999998\n",
      "125.39999999999964 123.23999999999997\n",
      "125.39999999999982 123.24000000000001\n",
      "125.3999999999999 123.24000000000001\n",
      "125.39999999999995 123.24000000000001\n",
      "125.39999999999998 123.23999999999998\n",
      "125.39999999999999 123.23999999999998\n",
      "125.39999999999999 123.23999999999998\n",
      "125.39999999999999 123.23999999999998\n",
      "125.39999999999999 123.23999999999998\n",
      "125.39999999999999 123.23999999999998\n",
      "125.39999999999999 123.23999999999998\n",
      "125.39999999999999 123.23999999999998\n",
      "125.39999999999999 123.23999999999998\n",
      "125.39999999999999 123.23999999999998\n",
      "125.39999999999999 123.23999999999998\n",
      "125.39999999999999 123.23999999999998\n",
      "125.39999999999999 123.23999999999998\n",
      "125.39999999999999 123.23999999999998\n",
      "125.39999999999999 123.23999999999998\n",
      "125.39999999999999 123.23999999999998\n",
      "125.39999999999999 123.23999999999998\n",
      "125.39999999999999 123.23999999999998\n",
      "125.39999999999999 123.23999999999998\n",
      "125.39999999999999 123.23999999999998\n",
      "125.39999999999999 123.23999999999998\n",
      "125.39999999999999 123.23999999999998\n",
      "125.39999999999999 123.23999999999998\n",
      "125.39999999999999 123.23999999999998\n",
      "125.39999999999999 123.23999999999998\n"
     ]
    },
    {
     "ename": "KeyboardInterrupt",
     "evalue": "",
     "output_type": "error",
     "traceback": [
      "\u001b[1;31m---------------------------------------------------------------------------\u001b[0m",
      "\u001b[1;31mKeyboardInterrupt\u001b[0m                         Traceback (most recent call last)",
      "\u001b[1;32m<ipython-input-73-0aa5813df7fe>\u001b[0m in \u001b[0;36m<module>\u001b[1;34m()\u001b[0m\n\u001b[0;32m      2\u001b[0m     \u001b[0mb\u001b[0m \u001b[1;33m=\u001b[0m \u001b[0mb\u001b[0m \u001b[1;33m-\u001b[0m \u001b[0mh\u001b[0m\u001b[1;33m*\u001b[0m\u001b[0mdloss_db\u001b[0m\u001b[1;33m(\u001b[0m\u001b[0mb\u001b[0m\u001b[1;33m,\u001b[0m \u001b[0my\u001b[0m\u001b[1;33m)\u001b[0m\u001b[1;33m\u001b[0m\u001b[0m\n\u001b[0;32m      3\u001b[0m     \u001b[0mprint\u001b[0m\u001b[1;33m(\u001b[0m\u001b[0mb\u001b[0m\u001b[1;33m,\u001b[0m \u001b[0mloss\u001b[0m\u001b[1;33m(\u001b[0m\u001b[0mb\u001b[0m\u001b[1;33m,\u001b[0m \u001b[0my\u001b[0m\u001b[1;33m)\u001b[0m\u001b[1;33m)\u001b[0m\u001b[1;33m\u001b[0m\u001b[0m\n\u001b[1;32m----> 4\u001b[1;33m     \u001b[0mtime\u001b[0m\u001b[1;33m.\u001b[0m\u001b[0msleep\u001b[0m\u001b[1;33m(\u001b[0m\u001b[1;36m0.1\u001b[0m\u001b[1;33m)\u001b[0m\u001b[1;33m\u001b[0m\u001b[0m\n\u001b[0m",
      "\u001b[1;31mKeyboardInterrupt\u001b[0m: "
     ]
    }
   ],
   "source": [
    "while loss(b, y) <= fmin:\n",
    "    b = b - h*dloss_db(b, y)\n",
    "    print(b, loss(b, y))\n",
    "    time.sleep(0.1)"
   ]
  },
  {
   "cell_type": "code",
   "execution_count": 51,
   "metadata": {},
   "outputs": [
    {
     "data": {
      "text/plain": [
       "125.4"
      ]
     },
     "execution_count": 51,
     "metadata": {},
     "output_type": "execute_result"
    }
   ],
   "source": [
    "y.mean()"
   ]
  },
  {
   "cell_type": "code",
   "execution_count": null,
   "metadata": {},
   "outputs": [],
   "source": []
  }
 ],
 "metadata": {
  "kernelspec": {
   "display_name": "Python 3",
   "language": "python",
   "name": "python3"
  },
  "language_info": {
   "codemirror_mode": {
    "name": "ipython",
    "version": 3
   },
   "file_extension": ".py",
   "mimetype": "text/x-python",
   "name": "python",
   "nbconvert_exporter": "python",
   "pygments_lexer": "ipython3",
   "version": "3.6.5"
  }
 },
 "nbformat": 4,
 "nbformat_minor": 2
}
