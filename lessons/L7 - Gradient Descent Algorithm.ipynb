{
 "cells": [
  {
   "cell_type": "markdown",
   "metadata": {},
   "source": [
    "## Lession 7 - Gradient Descent Algorithm"
   ]
  },
  {
   "cell_type": "code",
   "execution_count": 75,
   "metadata": {},
   "outputs": [],
   "source": [
    "import numpy as np\n",
    "import pandas as pd\n",
    "import matplotlib.pyplot as plt\n",
    "import time\n",
    "%matplotlib inline"
   ]
  },
  {
   "cell_type": "code",
   "execution_count": 76,
   "metadata": {},
   "outputs": [],
   "source": [
    "y = np.array([128,123,129,143,132,142,112,118,108,119])"
   ]
  },
  {
   "cell_type": "code",
   "execution_count": 77,
   "metadata": {},
   "outputs": [],
   "source": [
    "def loss(b, y):\n",
    "    return((b-y)*(b-y)).mean()\n",
    "def dloss_db(b, y):\n",
    "    return (b-y).mean()"
   ]
  },
  {
   "cell_type": "code",
   "execution_count": 78,
   "metadata": {},
   "outputs": [
    {
     "data": {
      "text/plain": [
       "-124.4"
      ]
     },
     "execution_count": 78,
     "metadata": {},
     "output_type": "execute_result"
    }
   ],
   "source": [
    "dl_db(1, y)"
   ]
  },
  {
   "cell_type": "code",
   "execution_count": 79,
   "metadata": {},
   "outputs": [
    {
     "data": {
      "text/plain": [
       "15598.6"
      ]
     },
     "execution_count": 79,
     "metadata": {},
     "output_type": "execute_result"
    }
   ],
   "source": [
    "loss(1, y)"
   ]
  },
  {
   "cell_type": "code",
   "execution_count": 81,
   "metadata": {},
   "outputs": [],
   "source": [
    "h = 0.4\n",
    "b = 100\n",
    "fmin = loss(b, y)"
   ]
  },
  {
   "cell_type": "code",
   "execution_count": 82,
   "metadata": {},
   "outputs": [
    {
     "name": "stdout",
     "output_type": "stream",
     "text": [
      "110.16 355.49760000000015\n",
      "116.256 206.852736\n",
      "119.9136 153.34058495999994\n",
      "122.10816 134.07621058560002\n",
      "123.424896 127.14103581081596\n",
      "124.2149376 124.64437289189375\n",
      "124.68896256 123.74557424108175\n",
      "124.973377536 123.42200672678943\n",
      "125.1440265216 123.3055224216442\n",
      "125.24641591296 123.2635880717919\n",
      "125.307849547776 123.24849170584507\n",
      "125.3447097286656 123.24305701410424\n",
      "125.36682583719936 123.24110052507754\n",
      "125.38009550231962 123.24039618902789\n",
      "125.38805730139177 123.24014262805004\n",
      "125.39283438083505 123.24005134609801\n",
      "125.39570062850103 123.2400184845953\n",
      "125.39742037710062 123.24000665445428\n",
      "125.39845222626037 123.24000239560355\n",
      "125.39907133575622 123.24000086241726\n",
      "125.39944280145373 123.2400003104702\n",
      "125.39966568087223 123.24000011176926\n",
      "125.39979940852334 123.24000004023692\n",
      "125.399879645114 123.2400000144853\n",
      "125.39992778706839 123.24000000521471\n",
      "125.39995667224103 123.24000000187728\n",
      "125.39997400334462 123.2400000006758\n",
      "125.39998440200678 123.2400000002433\n",
      "125.39999064120407 123.24000000008762\n",
      "125.39999438472245 123.24000000003153\n",
      "125.39999663083347 123.24000000001138\n",
      "125.39999797850008 123.24000000000407\n",
      "125.39999878710005 123.24000000000149\n",
      "125.39999927226003 123.2400000000005\n",
      "125.39999956335602 123.2400000000002\n",
      "125.3999997380136 123.24000000000005\n",
      "125.39999984280816 123.24000000000001\n",
      "125.3999999056849 123.24000000000001\n",
      "125.39999994341093 123.24000000000001\n",
      "125.39999996604656 123.23999999999998\n",
      "125.39999997962794 123.24000000000004\n",
      "125.39999998777677 123.24000000000001\n",
      "125.39999999266605 123.23999999999998\n",
      "125.39999999559963 123.23999999999998\n",
      "125.39999999735977 123.24000000000001\n",
      "125.39999999841586 123.24000000000001\n",
      "125.39999999904951 123.24000000000001\n",
      "125.39999999942971 123.23999999999998\n"
     ]
    },
    {
     "ename": "KeyboardInterrupt",
     "evalue": "",
     "output_type": "error",
     "traceback": [
      "\u001b[1;31m---------------------------------------------------------------------------\u001b[0m",
      "\u001b[1;31mKeyboardInterrupt\u001b[0m                         Traceback (most recent call last)",
      "\u001b[1;32m<ipython-input-82-0aa5813df7fe>\u001b[0m in \u001b[0;36m<module>\u001b[1;34m()\u001b[0m\n\u001b[0;32m      2\u001b[0m     \u001b[0mb\u001b[0m \u001b[1;33m=\u001b[0m \u001b[0mb\u001b[0m \u001b[1;33m-\u001b[0m \u001b[0mh\u001b[0m\u001b[1;33m*\u001b[0m\u001b[0mdloss_db\u001b[0m\u001b[1;33m(\u001b[0m\u001b[0mb\u001b[0m\u001b[1;33m,\u001b[0m \u001b[0my\u001b[0m\u001b[1;33m)\u001b[0m\u001b[1;33m\u001b[0m\u001b[0m\n\u001b[0;32m      3\u001b[0m     \u001b[0mprint\u001b[0m\u001b[1;33m(\u001b[0m\u001b[0mb\u001b[0m\u001b[1;33m,\u001b[0m \u001b[0mloss\u001b[0m\u001b[1;33m(\u001b[0m\u001b[0mb\u001b[0m\u001b[1;33m,\u001b[0m \u001b[0my\u001b[0m\u001b[1;33m)\u001b[0m\u001b[1;33m)\u001b[0m\u001b[1;33m\u001b[0m\u001b[0m\n\u001b[1;32m----> 4\u001b[1;33m     \u001b[0mtime\u001b[0m\u001b[1;33m.\u001b[0m\u001b[0msleep\u001b[0m\u001b[1;33m(\u001b[0m\u001b[1;36m0.1\u001b[0m\u001b[1;33m)\u001b[0m\u001b[1;33m\u001b[0m\u001b[0m\n\u001b[0m",
      "\u001b[1;31mKeyboardInterrupt\u001b[0m: "
     ]
    }
   ],
   "source": [
    "while loss(b, y) <= fmin:\n",
    "    b = b - h*dloss_db(b, y)\n",
    "    print(b, loss(b, y))\n",
    "    time.sleep(0.1)"
   ]
  },
  {
   "cell_type": "code",
   "execution_count": 51,
   "metadata": {},
   "outputs": [
    {
     "data": {
      "text/plain": [
       "125.4"
      ]
     },
     "execution_count": 51,
     "metadata": {},
     "output_type": "execute_result"
    }
   ],
   "source": [
    "y.mean()"
   ]
  },
  {
   "cell_type": "code",
   "execution_count": null,
   "metadata": {},
   "outputs": [],
   "source": []
  }
 ],
 "metadata": {
  "kernelspec": {
   "display_name": "Python 3",
   "language": "python",
   "name": "python3"
  },
  "language_info": {
   "codemirror_mode": {
    "name": "ipython",
    "version": 3
   },
   "file_extension": ".py",
   "mimetype": "text/x-python",
   "name": "python",
   "nbconvert_exporter": "python",
   "pygments_lexer": "ipython3",
   "version": "3.6.5"
  }
 },
 "nbformat": 4,
 "nbformat_minor": 2
}
